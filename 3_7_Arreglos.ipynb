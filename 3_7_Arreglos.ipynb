{
  "cells": [
    {
      "cell_type": "markdown",
      "metadata": {
        "colab_type": "text",
        "id": "view-in-github"
      },
      "source": [
        "<a href=\"https://colab.research.google.com/github/MilagrosPozzo/Programacion-1/blob/main/3_7_Arreglos.ipynb\" target=\"_parent\"><img src=\"https://colab.research.google.com/assets/colab-badge.svg\" alt=\"Open In Colab\"/></a>"
      ]
    },
    {
      "cell_type": "markdown",
      "metadata": {
        "id": "2UOj9D8HwgLm"
      },
      "source": [
        "# Introducción"
      ]
    },
    {
      "cell_type": "markdown",
      "metadata": {
        "id": "mGH096y4wjvI"
      },
      "source": [
        "¡Hola, volvimos! Seguro que están familiarizados con los tipos de datos básicos que hemos trabajado en capítulos anteriores, como los números y las cadenas. ¿Pero qué pasa si quieres almacenar un montón de números o cadenas? ¿Vas a declarar una variable para cada uno de ellos? ¡Por supuesto que no! Ahí es donde entran los arreglos. ¿Y qué son los arreglos? Bueno, estoy aquí para contarte todo sobre ellos.\n",
        "\n",
        "Imagínate que eres el dueño de una tienda y tienes varios productos. Necesitas una forma de llevar un registro de los productos que tienes en stock. Podrías tener una variable para cada producto, pero eso rápidamente se vuelve inmanejable. En lugar de eso, puedes usar un arreglo para guardar los nombres de los productos en un solo lugar. ¡Vamos a explorar cómo hacerlo!"
      ]
    },
    {
      "cell_type": "markdown",
      "metadata": {
        "id": "3Qk-rJUixMdV"
      },
      "source": [
        "# ¿Qué es un arreglo unidimensional?"
      ]
    },
    {
      "cell_type": "markdown",
      "metadata": {
        "id": "kOHq30duxPwE"
      },
      "source": [
        "En términos muy sencillos, un arreglo es una colección de elementos que son *del mismo tipo de datos*. Piensa en él como una estantería donde cada estante tiene un valor que tú decides."
      ]
    },
    {
      "cell_type": "code",
      "execution_count": null,
      "metadata": {
        "id": "8XWZdXXFxUBb"
      },
      "outputs": [],
      "source": [
        "productos = [\"manzanas\", \"bananas\", \"cerezas\", \"duraznos\", \"peras\"]"
      ]
    },
    {
      "cell_type": "markdown",
      "metadata": {
        "id": "nvfbOYiwxV0u"
      },
      "source": [
        "Aquí, productos es un arreglo (en Python, lo llamamos \"lista\") que contiene varias cadenas.\n",
        "\n",
        "*Nota:*\n",
        "*Los clásicos arrays descritos en lenguajes como C, Java, entre otros no existen en Python como tal. Una forma elegante de superar esta limitación es utilizar las llamadas listas in Python, que tienen una función similar. A diferencia de los contenedores de Java, las listas de Python pueden contener diferentes tipos de valores.*"
      ]
    },
    {
      "cell_type": "markdown",
      "metadata": {
        "id": "-cK4hNarzx0W"
      },
      "source": [
        "# Acceder a un elemento específico"
      ]
    },
    {
      "cell_type": "markdown",
      "metadata": {
        "id": "uHPO_v3fzzrt"
      },
      "source": [
        "Para acceder a los elementos de un arreglo, usamos su índice, que es la posición del elemento en el arreglo. Recuerda que en Python, los índices comienzan en 0."
      ]
    },
    {
      "cell_type": "code",
      "execution_count": null,
      "metadata": {
        "id": "9VevZVqPz4w9"
      },
      "outputs": [],
      "source": [
        "primer_producto = productos[0]\n",
        "print(primer_producto)\n"
      ]
    },
    {
      "cell_type": "markdown",
      "metadata": {
        "id": "osYfhmw7z52s"
      },
      "source": [
        "# Añadir elementos a un array en Python"
      ]
    },
    {
      "cell_type": "markdown",
      "metadata": {
        "id": "GNZE2IMez9NA"
      },
      "source": [
        "En Python, puedes añadir elementos a una lista usando el método append(). Este método añade el elemento al final de la lista."
      ]
    },
    {
      "cell_type": "code",
      "execution_count": null,
      "metadata": {
        "id": "SaW_mkUuz_-u"
      },
      "outputs": [],
      "source": [
        "productos.append(\"kiwis\")\n",
        "print(productos)"
      ]
    },
    {
      "cell_type": "markdown",
      "metadata": {
        "id": "DKbrIptb0BzR"
      },
      "source": [
        "# Eliminar elementos del array con pop ( ) o remove ( )"
      ]
    },
    {
      "cell_type": "markdown",
      "metadata": {
        "id": "35tzlfOe0Io4"
      },
      "source": [
        "Para eliminar elementos de una lista, puedes usar el método pop() o remove(). pop() elimina el elemento en la posición especificada, mientras que remove() elimina el primer elemento con el valor especificado."
      ]
    },
    {
      "cell_type": "code",
      "execution_count": null,
      "metadata": {
        "id": "U-f-3-hT0MMn"
      },
      "outputs": [],
      "source": [
        "productos.pop(1)  # Elimina el elemento en el índice 1\n",
        "productos.remove(\"cerezas\")  # Elimina la primera aparición de \"cerezas\"\n",
        "print(productos)"
      ]
    },
    {
      "cell_type": "markdown",
      "metadata": {
        "id": "rtbKFNpR0RnE"
      },
      "source": [
        "# Lista de diferentes métodos para arrays en Python"
      ]
    },
    {
      "cell_type": "markdown",
      "metadata": {
        "id": "sS7prWFX0VLQ"
      },
      "source": [
        "Python ofrece muchos métodos útiles para trabajar con listas. Aquí hay una tabla con algunos de los más comunes:"
      ]
    },
    {
      "cell_type": "markdown",
      "metadata": {
        "id": "ssz5zud50WJw"
      },
      "source": [
        "|Método|Descripción|\n",
        "|---|---|\n",
        "|`append()`|Añade un elemento al final de la lista.|\n",
        "|`clear()`|Este método elimina todos los elementos de la lista.|\n",
        "|`copy()`|`copy()` produce una copia de toda la lista.|\n",
        "|`count()`|Este método da como resultado el número exacto de elementos con un valor determinado.|\n",
        "|`extend()`|`extend()` añade todos los elementos de una lista al final de una lista en Python.|\n",
        "|`index()`|Muestra el número de índice del primer elemento con un valor determinado.|\n",
        "|`insert()`|Añade un elemento en una posición determinada.|\n",
        "|`len()`|Con `len()` se determina la longitud de un array en Python.|\n",
        "|`pop()`|Con `pop()` se elimina un elemento en una posición determinada.|\n",
        "|`remove()`|`remove()` elimina el primer elemento con un valor determinado.|\n",
        "|`reverse()`|Utiliza este método para invertir el orden de los elementos de tu lista en Python.|\n",
        "|`sort()`|Con `sort()` puedes ordenar tu lista.|\n"
      ]
    },
    {
      "cell_type": "markdown",
      "metadata": {
        "id": "wbINup_O9p5F"
      },
      "source": [
        "# Desafío 1: Gestión del Stock de la Verdulería\n",
        "\n",
        "¡Bienvenido al desafío de la verdulería! Has sido nombrado el nuevo gerente de una tienda de frutas, verduras y hortalizas. Tu tarea será manejar el stock de la tienda utilizando un arreglo. Aquí hay una serie de tareas que tendrás que completar.\n",
        "\n",
        "## Inventario inicial\n",
        "\n",
        "Aquí está el inventario inicial de la tienda:"
      ]
    },
    {
      "cell_type": "code",
      "execution_count": null,
      "metadata": {
        "id": "0ciI1vKd9yYd"
      },
      "outputs": [],
      "source": [
        "inventario = [\"manzanas\", \"bananas\", \"zanahorias\", \"espinacas\", \"brocoli\", \"cebolla\", \"kiwis\"]"
      ]
    },
    {
      "cell_type": "markdown",
      "metadata": {
        "id": "2PG6cpY7AbZN"
      },
      "source": [
        " **Pregunta 1: ¿Cuántos tipos de productos hay en el inventario inicial?**\n",
        "\n",
        " **Pregunta 2: ¿Qué producto está en la tercera posición del inventario?**"
      ]
    },
    {
      "cell_type": "markdown",
      "metadata": {},
      "source": [
        "Pregunta 1. ¿Cuántos tipos de productos hay en el inventario inicial? Hay 7 tipos de productos en el inventario inicial.\n",
        "\n",
        "Explicación: Cada elemento en la lista representa un tipo de producto diferente. Aunque estos productos podrían categorizarse en grupos más amplios (como frutas, verduras y hortalizas), la pregunta se refiere específicamente a los \"tipos de productos\" en el inventario inicial, y cada entrada en la lista es un tipo de producto distinto.Para obtener este número, usamos la función len().\n",
        "\n",
        "Pregunta 2: ¿Qué producto está en la tercera posición del inventario? \n",
        "\n",
        "Explicación: En Python, los índices de las listas comienzan en 0.El primer elemento tiene índice 0, el segundo elemento tiene índice 1, el tercer elemento tiene índice 2. La fórmula inventario[2]nos permite acceder directamente al tercer elemento."
      ]
    },
    {
      "cell_type": "code",
      "execution_count": 1,
      "metadata": {},
      "outputs": [
        {
          "name": "stdout",
          "output_type": "stream",
          "text": [
            "Pregunta 1: Hay 7 tipos de productos en el inventario inicial.\n",
            "Pregunta 2: El producto que está en la tercera posición del inventario es: zanahorias\n"
          ]
        }
      ],
      "source": [
        "# Realizar la gestión de stock de la verdulería, frutería teniendo en cuenta el inventario inicial\n",
        "inventario = [\"manzanas\", \"bananas\", \"zanahorias\", \"espinacas\", \"brocoli\", \"cebolla\", \"kiwis\"]\n",
        "\n",
        "# Pregunta 1: ¿Cuántos tipos de productos hay en el inventario inicial?\n",
        "cantidad_productos = len(inventario)\n",
        "print(f\"Pregunta 1: Hay {cantidad_productos} tipos de productos en el inventario inicial.\")\n",
        "\n",
        "# Pregunta 2: ¿Qué producto está en la tercera posición del inventario?\n",
        "tercer_producto = inventario[2]\n",
        "print(f\"Pregunta 2: El producto que está en la tercera posición del inventario es: {tercer_producto}\")"
      ]
    },
    {
      "cell_type": "markdown",
      "metadata": {
        "id": "JT8fGJI3ARwG"
      },
      "source": [
        "## Gestión del inventario\n",
        "Un cliente viene y compra todas las bananas.\n",
        "\n",
        "**Pregunta 3: ¿Cómo actualizarías el inventario después de la venta?**\n",
        "\n",
        "Ahora recibes un envío de nuevos productos: \"frutillas\", \"apio\" y \"papas\".\n",
        "\n",
        "**Pregunta 4: ¿Cómo añadirías estos productos al inventario?**\n",
        "\n",
        "**Pregunta 5: ¿Cómo verificas si las \"papas\" están ahora en el inventario?**\n",
        "\n",
        "Un agricultor viene con una rara fruta llamada \"dragonfruit\", pero sólo tienes espacio para 7 productos en tu tienda.\n",
        "\n",
        "**Pregunta 6: ¿Cómo decidirías qué producto sacar para hacer espacio para el \"dragonfruit\"?**\n"
      ]
    },
    {
      "cell_type": "markdown",
      "metadata": {},
      "source": [
        "Pregunta 3: ¿Cómo actualizarías el inventario después de la venta de todas las bananas?\n",
        "\n",
        "Explicación: El método remove() elimina la primera ocurrencia del elemento especificado en la lista. En este caso, elimine los \"plátanos\" del inventario. Es útil cuando conocemos el valor a eliminar pero no su posición exacta en la lista.\n",
        "\n",
        "Pregunta 4: ¿Cómo añadirías los nuevos productos \"frutillas\", \"apio\" y \"papas\" al inventario?\n",
        "\n",
        "Explicación: El método extend() añade todos los elementos de una lista al final de otra lista. Esta es una forma eficiente de agregar múltiples elementos a la vez, en lugar de usar append() varias veces.\n",
        "\n",
        "Pregunta 5: ¿Cómo verificas si las \"papas\" están ahora en el inventario?\n",
        "\n",
        "Explicación: El operador in verifica si un elemento está presente en la lista. Retorna True si el elemento está en la lista, False si no. Es una forma rápida y sencilla de comprobar la existencia de un elemento.\n",
        "\n",
        "Pregunta 6: ¿Cómo decidirías qué producto sacar para hacer espacio para el \"dragonfruit\"?\n",
        "\n",
        "Explicación: El inventario.pop(0) elimina y retorna el primer elemento de la lista. El argumento 0 indica que queremos eliminar el elemento en la primera posición.\n",
        "- inventario.append (\"dragonfruit\") añade \"dragonfruit\" al final de la lista. Esta estrategia sigue un enfoque de \"primero en entrar, primero en salir\", donde eliminamos el producto más antiguo para hacer espacio para el nuevo."
      ]
    },
    {
      "cell_type": "code",
      "execution_count": 3,
      "metadata": {},
      "outputs": [
        {
          "name": "stdout",
          "output_type": "stream",
          "text": [
            "Inventario después de vender las bananas: ['manzanas', 'zanahorias', 'espinacas', 'brocoli', 'cebolla', 'kiwis']\n",
            "Inventario después de añadir nuevos productos: ['manzanas', 'zanahorias', 'espinacas', 'brocoli', 'cebolla', 'kiwis', 'frutillas', 'apio', 'papas']\n",
            "Hay papas en el inventario\n",
            "Inventario después de añadir dragonfruit: ['zanahorias', 'espinacas', 'brocoli', 'cebolla', 'kiwis', 'frutillas', 'apio', 'papas', 'dragonfruit']\n"
          ]
        }
      ],
      "source": [
        "# Inventario inicial\n",
        "inventario = [\"manzanas\", \"bananas\", \"zanahorias\", \"espinacas\", \"brocoli\", \"cebolla\", \"kiwis\"]\n",
        "\n",
        "# Un cliente viene y compra todas las bananas.\n",
        "# Pregunta 3: ¿Cómo actualizarías el inventario después de la venta?\n",
        "inventario.remove(\"bananas\")\n",
        "print(\"Inventario después de vender las bananas:\", inventario)\n",
        "\n",
        "# Ahora recibes un envío de nuevos productos: \"frutillas\", \"apio\" y \"papas\".\n",
        "# Pregunta 4: ¿Cómo añadirías estos productos al inventario?\n",
        "inventario.append(\"frutillas\")\n",
        "inventario.append(\"apio\")\n",
        "inventario.append(\"papas\")\n",
        "print(\"Inventario después de añadir nuevos productos:\", inventario)\n",
        "\n",
        "# Pregunta 5: ¿Cómo verificas si las \"papas\" están ahora en el inventario?\n",
        "if \"papas\" in inventario:\n",
        "    print(\"Hay papas en el inventario\")\n",
        "else:\n",
        "    print(\"No hay papas en el inventario\")\n",
        "\n",
        "# Un agricultor viene con una rara fruta llamada \"dragonfruit\", pero sólo tienes espacio para 7 productos en tu tienda.\n",
        "# Pregunta 6: ¿Cómo decidirías qué producto sacar para hacer espacio para el \"dragonfruit\"?\n",
        "inventario.pop(0)  # Eliminamos el primer producto para hacer espacio\n",
        "inventario.append(\"dragonfruit\")\n",
        "print(\"Inventario después de añadir dragonfruit:\", inventario)"
      ]
    },
    {
      "cell_type": "markdown",
      "metadata": {},
      "source": [
        "Ver solución en en el siguiente link: https://replit.com/@milagrospozzofa/Tema3-7des1GI"
      ]
    },
    {
      "cell_type": "markdown",
      "metadata": {
        "id": "tJUXxW1D94Qb"
      },
      "source": [
        "## Ordenando el inventario\n",
        "Decides que sería más fácil gestionar el inventario si estuviera ordenado alfabéticamente.\n",
        "\n",
        "**Pregunta 7: ¿Cómo ordenarías el inventario?**\n",
        "\n",
        "Un nuevo empleado viene y necesita una copia del inventario para poder reponer los estantes.\n",
        "\n",
        "**Pregunta 8: ¿Cómo proporcionarías una copia del inventario al nuevo empleado, asegurándote de que si el empleado hace cambios en su copia, el inventario original no se vea afectado?**\n",
        "\n",
        "Esperamos que disfrutes de este desafío y que te ayude a entender mejor cómo trabajar con arreglos en Python. ¡Buena suerte, gerente de la tienda!"
      ]
    },
    {
      "cell_type": "code",
      "execution_count": 4,
      "metadata": {},
      "outputs": [
        {
          "name": "stdout",
          "output_type": "stream",
          "text": [
            "Inventario ordenado alfabéticamente: ['bananas', 'brocoli', 'cebolla', 'espinacas', 'kiwis', 'manzanas', 'zanahorias']\n",
            "Copia del inventario para el nuevo empleado: ['bananas', 'brocoli', 'cebolla', 'espinacas', 'kiwis', 'manzanas', 'zanahorias']\n",
            "Copia del inventario modificada: ['bananas', 'brocoli', 'cebolla', 'espinacas', 'kiwis', 'manzanas', 'zanahorias', 'mandarinas']\n",
            "Inventario original sin cambios: ['bananas', 'brocoli', 'cebolla', 'espinacas', 'kiwis', 'manzanas', 'zanahorias']\n"
          ]
        }
      ],
      "source": [
        "# Decides que sería más fácil gestionar el inventario si estuviera ordenado alfabéticamente.\n",
        "# Pregunta 7: ¿Cómo ordenarías el inventario?\n",
        "\n",
        "# Inventario inicial\n",
        "inventario = [\"manzanas\", \"bananas\", \"zanahorias\", \"espinacas\", \"brocoli\", \"cebolla\", \"kiwis\"]\n",
        "inventario.sort()\n",
        "print(\"Inventario ordenado alfabéticamente:\", inventario)\n",
        "\n",
        "# Un nuevo empleado viene y necesita una copia del inventario para poder reponer los estantes.\n",
        "# Pregunta 8: ¿Cómo proporcionarías una copia del inventario al nuevo empleado,\n",
        "# asegurándote de que si el empleado hace cambios en su copia, el inventario original no se vea afectado?\n",
        "copia_inventario = inventario.copy()\n",
        "print(\"Copia del inventario para el nuevo empleado:\", copia_inventario)\n",
        "\n",
        "# Demostración de que la copia es independiente del original\n",
        "copia_inventario.append(\"mandarinas\")\n",
        "print(\"Copia del inventario modificada:\", copia_inventario)\n",
        "print(\"Inventario original sin cambios:\", inventario)"
      ]
    },
    {
      "cell_type": "markdown",
      "metadata": {},
      "source": [
        "# Desafío 2: Ordenar el Inventario de Libros\n",
        "\n",
        "Como encargado de la biblioteca, necesitas organizar los libros de acuerdo con sus códigos de identificación en orden decreciente, sin modificar la lista original. Se recomienda usar la función sorted(). ¿Por qué es importante no modificar la lista original? ¿Por qué no puedo usar el método sort sobre la lista original?"
      ]
    },
    {
      "cell_type": "markdown",
      "metadata": {},
      "source": [
        "*1-¿Por qué es importante no modificar la lista original?*\n",
        "\n",
        "Preservación de datos: Mantener la lista original intacta permite conservar el orden original de ingreso o cualquier otro orden significativo que pudiera tener.\n",
        "Múltiples vistas: Permite tener diferentes ordenamientos o vistas de los mismos datos sin perder la referencia original.\n",
        "Reversibilidad: Facilita volver al estado original si es necesario, sin tener que reordenar o recargar los datos.\n",
        "Integridad de datos: En sistemas más complejos, modificar la lista original podría afectar a otras partes del programa que dependen de ese orden específico.\n",
        "\n",
        "\n",
        "*2-¿Por qué no puedo usar el método sort() sobre la lista original?*\n",
        "\n",
        "Modificación in-place: sort() modifica la lista original, lo cual va en contra del requerimiento de no alterar la lista inicial.\n",
        "Irreversibilidad: Una vez aplicado sort(), no es fácil volver al orden original sin guardar una copia previa.\n",
        "Efectos secundarios: En programas más grandes, modificar la lista original podría causar efectos no deseados en otras partes del código que use esa lista.\n",
        "\n",
        "\n",
        "\n",
        "La función sorted(), por otro lado:\n",
        "\n",
        "Crea una nueva lista ordenada, dejando la original intacta.\n",
        "Permite más flexibilidad, ya que podemos tener múltiples ordenamientos sin afectar los datos originales.\n",
        "Es más seguro en términos de preservación de datos y prevención de efectos secundarios no deseados.\n",
        "\n",
        "En este ejercicio, usamos sorted() con una función lambda como clave para extraer y comparar los códigos de los libros, y reverse=True para ordenar en orden decreciente. Esto nos permite obtener una nueva lista ordenada mientras mantenemos la lista original sin cambios, cumpliendo así con todos los requisitos del problema.\n",
        "### Resolver con lista predefinida"
      ]
    },
    {
      "cell_type": "code",
      "execution_count": 5,
      "metadata": {},
      "outputs": [
        {
          "name": "stdout",
          "output_type": "stream",
          "text": [
            "Inventario original:\n",
            "L001 - El principito\n",
            "L105 - Cien años de soledad\n",
            "L042 - El señor de los anillos\n",
            "L203 - Don Quijote de la Mancha\n",
            "L097 - Harry Potter y la piedra filosofal\n",
            "\n",
            "Inventario ordenado:\n",
            "L203 - Don Quijote de la Mancha\n",
            "L105 - Cien años de soledad\n",
            "L097 - Harry Potter y la piedra filosofal\n",
            "L042 - El señor de los anillos\n",
            "L001 - El principito\n",
            "\n",
            "Verificación de que el inventario original no fue modificado:\n",
            "L001 - El principito\n",
            "L105 - Cien años de soledad\n",
            "L042 - El señor de los anillos\n",
            "L203 - Don Quijote de la Mancha\n",
            "L097 - Harry Potter y la piedra filosofal\n"
          ]
        }
      ],
      "source": [
        "# Inventario original de libros\n",
        "libros = [\n",
        "    \"L001 - El principito\",\n",
        "    \"L105 - Cien años de soledad\",\n",
        "    \"L042 - El señor de los anillos\",\n",
        "    \"L203 - Don Quijote de la Mancha\",\n",
        "    \"L097 - Harry Potter y la piedra filosofal\"\n",
        "]\n",
        "\n",
        "# Crear una lista temporal con solo los códigos\n",
        "codigos = [libro.split()[0] for libro in libros]\n",
        "\n",
        "# Ordenar los códigos en orden decreciente\n",
        "codigos_ordenados = sorted(codigos, reverse=True)\n",
        "\n",
        "# Crear la lista ordenada de libros\n",
        "libros_ordenados = []\n",
        "for codigo in codigos_ordenados:\n",
        "    for libro in libros:\n",
        "        if libro.startswith(codigo):\n",
        "            libros_ordenados.append(libro)\n",
        "            break\n",
        "\n",
        "print(\"Inventario original:\")\n",
        "for libro in libros:\n",
        "    print(libro)\n",
        "\n",
        "print(\"\\nInventario ordenado:\")\n",
        "for libro in libros_ordenados:\n",
        "    print(libro)\n",
        "\n",
        "print(\"\\nVerificación de que el inventario original no fue modificado:\")\n",
        "for libro in libros:\n",
        "    print(libro)"
      ]
    },
    {
      "cell_type": "markdown",
      "metadata": {
        "id": "zamEmCPpdu0g"
      },
      "source": [
        "\n",
        "# Desafío 3: Caracteres ASCII\n",
        "Eres un desarrollador creando una herramienta educativa que muestra los caracteres ASCII correspondientes a una lista de números. Se recomienda usar la función chr() para convertir los números en caracteres."
      ]
    },
    {
      "cell_type": "markdown",
      "metadata": {},
      "source": [
        "### ¿Qué es la tabla ASCII?\n",
        "\n",
        "¿Qué es la tabla ASCII?\n",
        "La tabla ASCII (American Standard Code for Information Interchange) es un conjunto de códigos de caracteres que asigna un número único a cada símbolo, letra, dígito o signo. Originalmente, ASCII utilizaba 7 bits para representar 128 caracteres, pero luego se extendió a 8 bits (256 caracteres) en la variante Windows-1252.\n",
        "\n",
        "Caracteres de control (códigos 0-31)\n",
        "Los primeros 32 caracteres de la tabla ASCII son códigos de control no imprimibles. Estos se utilizan para controlar periféricos como impresoras.\n",
        "\n",
        "Caracteres imprimibles (códigos 32-127)\n",
        "Los códigos 32-127 son comunes para todas las variantes de la tabla ASCII. Estos representan letras, dígitos, signos de puntuación y otros símbolos. \n",
        "\n",
        "Explicación: Conversión de Números a Caracteres ASCII (línea 4): Utilizar una comprensión de lista para generar números ASCII imprimibles (32-126). Esto demuestra una forma eficiente de crear listas en Python.\n",
        "Conversión de números a caracteres (línea 7): Implementar una comprensión de lista con la función chr()para convertir números a caracteres. \n",
        "Presentar resultados (líneas 10-11): Utilizar un bucle con enumeración para mostrar tanto el número como el carácter correspondiente, mejorando la legibilidad de la salida."
      ]
    },
    {
      "cell_type": "code",
      "execution_count": 2,
      "metadata": {},
      "outputs": [
        {
          "name": "stdout",
          "output_type": "stream",
          "text": [
            "El carácter ASCII para el número 65 es: A\n"
          ]
        }
      ],
      "source": [
        "numero = 65  # Representa la letra 'A'\n",
        "caracter = chr(numero)\n",
        "print(f\"El carácter ASCII para el número {numero} es: {caracter}\")"
      ]
    },
    {
      "cell_type": "markdown",
      "metadata": {},
      "source": [
        "💡 *Otra opción de resolución* Se presenta un código simple que toma una lista de números y convierte cada número en su correspondiente carácter ASCII:"
      ]
    },
    {
      "cell_type": "code",
      "execution_count": 1,
      "metadata": {},
      "outputs": [
        {
          "name": "stdout",
          "output_type": "stream",
          "text": [
            "Número: 65 => Carácter ASCII: A\n",
            "Número: 66 => Carácter ASCII: B\n",
            "Número: 67 => Carácter ASCII: C\n",
            "Número: 68 => Carácter ASCII: D\n",
            "Número: 69 => Carácter ASCII: E\n",
            "Número: 97 => Carácter ASCII: a\n",
            "Número: 98 => Carácter ASCII: b\n",
            "Número: 99 => Carácter ASCII: c\n",
            "Número: 100 => Carácter ASCII: d\n",
            "Número: 101 => Carácter ASCII: e\n"
          ]
        }
      ],
      "source": [
        "def mostrar_caracteres_ascii(numeros):\n",
        "        #Toma una lista de números y muestra los caracteres ASCII correspondientes.\n",
        "    for numero in numeros:\n",
        "        # Convertir el número a carácter ASCII utilizando chr()\n",
        "        caracter = chr(numero)\n",
        "        print(f\"Número: {numero} => Carácter ASCII: {caracter}\")\n",
        "\n",
        "# Ejemplo de uso\n",
        "numeros = [65, 66, 67, 68, 69, 97, 98, 99, 100, 101]\n",
        "mostrar_caracteres_ascii(numeros)"
      ]
    },
    {
      "cell_type": "markdown",
      "metadata": {},
      "source": [
        "# Desafío 4: Control de Notas de Estudiantes\n",
        "Como profesor, necesitas manejar las notas de tus estudiantes. Permite ingresar todas las notas de los estudiantes y realiza varias operaciones con esos datos.\n",
        "\n",
        "**Pregunta 1: Calcula el promedio de las notas de la clase. ¿Cómo lo harías?**\n",
        "\n",
        "**Pregunta 2: Encuentra la nota más baja y la más alta. ¿Cómo lo harías?**\n",
        "\n",
        "**Pregunta 3: Identifica la nota que más se repite. ¿Cómo lo harías?**\n",
        "\n",
        "_Nota:_ La función Counter es útil porque simplifica el conteo de elementos en una lista, permitiendo identificar rápidamente la frecuencia de cada nota.\n",
        "\n",
        "**Pregunta 4 (Plus): Realiza un gráfico de barras con las notas. ¿Cómo lo harías?**\n",
        "\n",
        "_Nota:_ La biblioteca matplotlib.pyplot es útil porque proporciona funciones fáciles de usar para crear visualizaciones de datos, como gráficos de barras, que pueden ayudar a visualizar la distribución de las notas de manera clara y comprensible."
      ]
    },
    {
      "cell_type": "markdown",
      "metadata": {},
      "source": [
        "*Pregunta 1* "
      ]
    },
    {
      "cell_type": "code",
      "execution_count": 7,
      "metadata": {},
      "outputs": [
        {
          "name": "stdout",
          "output_type": "stream",
          "text": [
            "\n",
            "Promedios de calificaciones:\n",
            "El promedio de las calificaciones de Arriola, María es de: 8.6\n",
            "El promedio de las calificaciones de Buffa, Lucas es de: 8.4\n",
            "El promedio de las calificaciones de Carro, Agustín es de: 5.0\n",
            "El promedio de las calificaciones de Noy, Antonhy es de: 7.2\n"
          ]
        }
      ],
      "source": [
        "# Pregunta 1: Calcula el promedio de las notas de la clase. \n",
        "# Resolver con datos predeterminados\n",
        "# Inicializar una lista para almacenar los datos de los estudiantes\n",
        "estudiantes = [\n",
        "    {\"nombre\": \"Arriola, María\", \"calificaciones\": [10, 8, 6, 10, 9]},\n",
        "    {\"nombre\": \"Buffa, Lucas\", \"calificaciones\": [10, 9, 8, 6, 9]},\n",
        "    {\"nombre\": \"Carro, Agustín\", \"calificaciones\": [3, 5, 6, 4, 7]},\n",
        "    {\"nombre\": \"Noy, Antonhy\", \"calificaciones\": [6, 6, 7, 8, 9]}\n",
        "]\n",
        "\n",
        "# Calcular el promedio de calificaciones para cada estudiante\n",
        "for estudiante in estudiantes:\n",
        "    calificaciones = estudiante[\"calificaciones\"]\n",
        "    promedio = sum(calificaciones) / len(calificaciones)\n",
        "    estudiante[\"promedio\"] = promedio\n",
        "\n",
        "# Mostrar los resultados\n",
        "print(\"\\nPromedios de calificaciones:\")\n",
        "for estudiante in estudiantes:\n",
        "    nombre = estudiante[\"nombre\"]\n",
        "    promedio = estudiante[\"promedio\"]\n",
        "    print(f\"El promedio de las calificaciones de {nombre} es de: {promedio}\")"
      ]
    },
    {
      "cell_type": "markdown",
      "metadata": {},
      "source": [
        "💡*Redondear resultados* Para redondear los resultados y asegurarse de que den números enteros, podemos usar la función round()."
      ]
    },
    {
      "cell_type": "code",
      "execution_count": 8,
      "metadata": {},
      "outputs": [
        {
          "name": "stdout",
          "output_type": "stream",
          "text": [
            "\n",
            "Promedios de calificaciones:\n",
            "El promedio de las calificaciones de Arriola, María es de: 9\n",
            "El promedio de las calificaciones de Buffa, Lucas es de: 8\n",
            "El promedio de las calificaciones de Carro, Agustín es de: 5\n",
            "El promedio de las calificaciones de Noy, Antonhy es de: 7\n"
          ]
        }
      ],
      "source": [
        "# Resolver con datos predeterminados\n",
        "# Inicializar una lista para almacenar los datos de los estudiantes\n",
        "estudiantes = [\n",
        "    {\"nombre\": \"Arriola, María\", \"calificaciones\": [10, 8, 6, 10, 9]},\n",
        "    {\"nombre\": \"Buffa, Lucas\", \"calificaciones\": [10, 9, 8, 6, 9]},\n",
        "    {\"nombre\": \"Carro, Agustín\", \"calificaciones\": [3, 5, 6, 4, 7]},\n",
        "    {\"nombre\": \"Noy, Antonhy\", \"calificaciones\": [6, 6, 7, 8, 9]}\n",
        "]\n",
        "\n",
        "# Calcular el promedio de calificaciones para cada estudiante y redondearlo\n",
        "for estudiante in estudiantes:\n",
        "    calificaciones = estudiante[\"calificaciones\"]\n",
        "    promedio = round(sum(calificaciones) / len(calificaciones))\n",
        "    estudiante[\"promedio\"] = promedio\n",
        "\n",
        "# Mostrar los resultados\n",
        "print(\"\\nPromedios de calificaciones:\")\n",
        "for estudiante in estudiantes:\n",
        "    nombre = estudiante[\"nombre\"]\n",
        "    promedio = estudiante[\"promedio\"]\n",
        "    print(f\"El promedio de las calificaciones de {nombre} es de: {promedio}\")"
      ]
    },
    {
      "cell_type": "markdown",
      "metadata": {},
      "source": [
        "*Pregunta 2* Aplicar las funciones min()y max()directamente a la lista de notas. Estas funciones integradas de Python son muy útiles para encontrar valores extremos en colecciones."
      ]
    },
    {
      "cell_type": "code",
      "execution_count": 9,
      "metadata": {},
      "outputs": [
        {
          "name": "stdout",
          "output_type": "stream",
          "text": [
            "La nota más alta es: 10\n",
            "La nota más baja es: 3\n"
          ]
        }
      ],
      "source": [
        "# Pregunta 2: Encuentra la nota más baja y la más alta.\n",
        "# Datos de los estudiantes con sus calificaciones\n",
        "estudiantes = [\n",
        "    {\"nombre\": \"Arriola, María\", \"calificaciones\": [10, 8, 6, 10, 9]},\n",
        "    {\"nombre\": \"Buffa, Lucas\", \"calificaciones\": [10, 9, 8, 6, 9]},\n",
        "    {\"nombre\": \"Carro, Agustín\", \"calificaciones\": [3, 5, 6, 4, 7]},\n",
        "    {\"nombre\": \"Noy, Antonhy\", \"calificaciones\": [6, 6, 7, 8, 9]}\n",
        "]\n",
        "\n",
        "# Encontrar la nota más alta y más baja entre todos los estudiantes\n",
        "notas = [nota for estudiante in estudiantes for nota in estudiante[\"calificaciones\"]]\n",
        "nota_mas_alta = max(notas)\n",
        "nota_mas_baja = min(notas)\n",
        "\n",
        "# Mostrar los resultados\n",
        "print(f\"La nota más alta es: {nota_mas_alta}\")\n",
        "print(f\"La nota más baja es: {nota_mas_baja}\")"
      ]
    },
    {
      "cell_type": "markdown",
      "metadata": {},
      "source": [
        "Inicializar variables:\n",
        "\n",
        "nota_mas_baja con el valor máximo posible (en este caso, 10).\n",
        "nota_mas_alta con el valor mínimo posible (en este caso, 1).\n",
        "Recorrer las notas:\n",
        "\n",
        "Utilizar un ciclo for para iterar por cada nota en la lista.\n",
        "Dentro del ciclo:\n",
        "Comparar la nota actual con nota_mas_baja:\n",
        "Si la nota actual es menor, actualizar nota_mas_baja con el valor actual.\n",
        "Comparar la nota actual con nota_mas_alta:\n",
        "Si la nota actual es mayor, actualizar nota_mas_alta con el valor actual.\n",
        "Mostrar las notas:\n",
        "\n",
        "Imprimir un mensaje con la nota más baja y la nota más alta."
      ]
    },
    {
      "cell_type": "code",
      "execution_count": null,
      "metadata": {},
      "outputs": [],
      "source": [
        "nota_mas_baja = 1\n",
        "nota_mas_alta = 10\n",
        "\n",
        "for nota in notas:\n",
        "  if nota < nota_mas_baja:\n",
        "    nota_mas_baja = nota\n",
        "  if nota > nota_mas_alta:\n",
        "    nota_mas_alta = nota\n",
        "\n",
        "print(\"La nota más baja es:\", nota_mas_baja)\n",
        "print(\"La nota más alta es:\", nota_mas_alta)"
      ]
    },
    {
      "cell_type": "markdown",
      "metadata": {},
      "source": [
        "*Pregunta 3* \n",
        "1.  Importar *Counter* de la biblioteca *collections*.\n",
        "2. Definir la función *nota_mas_frecuente* que toma la lista de estudiantes como argumento.\n",
        "3. Dentro de la función, crear una lista de comprensión que extrae todas las calificaciones de todos los estudiantes y las coloca en una sola lista ( todas_las_notas).\n",
        "4. Usar *Counter* para contar la frecuencia de cada nota en *todas_las_notas*.\n",
        "5. Usar el método [*most_common(1)*](https://docs.python.org/3/library/collections.html) del objeto *Counter* para obtener la nota más frecuente. Este método devuelve una lista de tupla (nota, frecuencia), ordenadas de mayor a menor frecuencia. Al tomar el primer elemento ( [0]) y luego el primer elemento de esa tupla ( [0]), obtenemos la nota más frecuente.\n",
        "- most_common(1): devuelve una lista de tuplas donde cada tupla contiene un elemento y su frecuencia, ordenados por frecuencia de mayor a menor. El argumento 1 especifica que solo queremos el elemento más común.\n",
        "\n",
        "- [0] después de most_common(1): accede al primer elemento de la lista devuelta por most_common(1). En este caso, dado que most_common(1) devuelve una lista con una sola tupla (debido al argumento 1), [0] nos da esa única tupla.\n",
        "\n",
        "- [0] después de [0]: Una vez que tenemos la tupla que representa el elemento más común (en forma de (elemento, frecuencia)), [0] accede al primer elemento de esa tupla, que es el propio elemento en sí.\n",
        "\n",
        "Entonces, most_common(1)[0][0] se usa para obtener el elemento más común (la nota que más se repite) de un Counter. La secuencia de [0][0] permite navegar desde la lista de tuplas hasta el elemento específico que estamos interesados en obtener, que es el elemento con la frecuencia más alta.\n",
        "\n",
        "6. Finalmente, llamamos a la función y mostramos el resultado.\n"
      ]
    },
    {
      "cell_type": "code",
      "execution_count": 1,
      "metadata": {},
      "outputs": [
        {
          "name": "stdout",
          "output_type": "stream",
          "text": [
            "La nota que más se repite es: 6\n"
          ]
        }
      ],
      "source": [
        "from collections import Counter\n",
        "\n",
        "# Inicializar una lista para almacenar los datos de los estudiantes\n",
        "estudiantes = [\n",
        "    {\"nombre\": \"Arriola, María\", \"calificaciones\": [10, 8, 6, 10, 9]},\n",
        "    {\"nombre\": \"Buffa, Lucas\", \"calificaciones\": [10, 9, 8, 6, 9]},\n",
        "    {\"nombre\": \"Carro, Agustín\", \"calificaciones\": [3, 5, 6, 4, 7]},\n",
        "    {\"nombre\": \"Noy, Antonhy\", \"calificaciones\": [6, 6, 7, 8, 9]}\n",
        "]\n",
        "\n",
        "def nota_mas_frecuente(estudiantes):\n",
        "    # Crear una lista con todas las calificaciones\n",
        "    todas_las_notas = [nota for estudiante in estudiantes for nota in estudiante['calificaciones']]\n",
        "    \n",
        "    # Usar Counter para contar la frecuencia de cada nota\n",
        "    contador = Counter(todas_las_notas)\n",
        "    \n",
        "    # Encontrar la nota más frecuente\n",
        "    nota_mas_comun = contador.most_common(1)[0][0]\n",
        "    \n",
        "    return nota_mas_comun\n",
        "\n",
        "# Llamar a la función y mostrar el resultado\n",
        "nota_mas_comun = nota_mas_frecuente(estudiantes)\n",
        "print(f\"La nota que más se repite es: {nota_mas_comun}\")"
      ]
    },
    {
      "cell_type": "markdown",
      "metadata": {},
      "source": [
        "*Pregunta 4* [matplotlib.pyplot](https://matplotlib.org/3.5.3/api/_as_gen/matplotlib.pyplot.html)\n",
        "1. Importaciones: Importar *matplotlib.pyplot* para crear el gráfico.\n",
        "Importar *Counter* de *collections* contar las frecuencias de las notas.\n",
        "2. Definir la función: Crear una función que toma una lista de notas como argumento.\n",
        "3. Conteo de frecuencias: Usar *Counter* para contar cuantas veces aparece cada nota.\n",
        "4. Prepar datos para el gráfico: Crear una lista de notas únicas y sus frecuencias.\n",
        "5. Crear el gráfico de barras: Usar *plt.bar()* para crear el gráfico de barras, donde *notas_unicas* son las posiciones en el eje xy *frecuencias* las alturas de las barras.\n",
        "5. "
      ]
    },
    {
      "cell_type": "code",
      "execution_count": null,
      "metadata": {},
      "outputs": [],
      "source": [
        "import matplotlib.pyplot as plt\n",
        "import seaborn as sns\n",
        "\n",
        "from collections import Counter\n",
        "\n",
        "def grafico_barras_notas(notas):\n",
        "    contador = Counter(notas)\n",
        "    notas_unicas = list(contador.keys())\n",
        "    frecuencias = list(contador.values())\n",
        "    \n",
        "    plt.bar(notas_unicas, frecuencias)\n",
        "    plt.xlabel('Notas')\n",
        "    plt.ylabel('Frecuencia')\n",
        "    plt.title('Distribución de Notas')\n",
        "    plt.xticks(notas_unicas)\n",
        "    plt.show() # muestra la gráfica luego de que ya se definieron todos los elementos\n",
        "\n",
        "# Ejemplo de uso:\n",
        "notas = [7, 8, 6, 9, 7, 8, 10, 6, 8, 7]\n",
        "grafico_barras_notas(notas)"
      ]
    },
    {
      "cell_type": "markdown",
      "metadata": {
        "id": "yXuifHVfdu0g"
      },
      "source": [
        "# Problema 1: Análisis de Ventas Mensuales usando el módulo array\n",
        "Eres el gerente de una tienda de ropa y necesitas analizar las ventas mensuales de un producto específico durante el último año. Usarás el módulo array para almacenar y manipular los datos de ventas de cada mes. El objetivo es calcular la venta total anual, el promedio de ventas mensuales, y encontrar los meses con la venta más baja y más alta.\n",
        "\n",
        "## Datos Iniciales\n",
        "Las ventas mensuales del producto específico son las siguientes (en unidades):"
      ]
    },
    {
      "cell_type": "code",
      "execution_count": null,
      "metadata": {
        "id": "3dYGHGcNdu0h"
      },
      "outputs": [],
      "source": [
        "import array\n",
        "\n",
        "ventas_mensuales = array.array('i', [120, 135, 150, 145, 160, 155, 130, 140, 125, 170, 160, 180])"
      ]
    },
    {
      "cell_type": "markdown",
      "metadata": {
        "id": "vUtOa6qXdu0h"
      },
      "source": [
        "## Tareas:\n",
        "**Calcula la venta total anual.**"
      ]
    },
    {
      "cell_type": "code",
      "execution_count": null,
      "metadata": {
        "id": "bqLX-ripdu0h"
      },
      "outputs": [],
      "source": [
        "total_anual = sum(ventas_mensuales)\n",
        "print(f\"Venta total anual: {total_anual} unidades\")"
      ]
    },
    {
      "cell_type": "markdown",
      "metadata": {
        "id": "YsEI4BX7du0h"
      },
      "source": [
        "**Calcula el promedio de ventas mensuales.**"
      ]
    },
    {
      "cell_type": "code",
      "execution_count": null,
      "metadata": {
        "id": "KZiiuzrOdu0h"
      },
      "outputs": [],
      "source": [
        "promedio_mensual = total_anual / len(ventas_mensuales)\n",
        "print(f\"Promedio de ventas mensuales: {promedio_mensual:.2f} unidades\")"
      ]
    },
    {
      "cell_type": "markdown",
      "metadata": {
        "id": "_bR8Fu2ydu0h"
      },
      "source": [
        "**Encuentra el mes con la venta más baja y más alta.**"
      ]
    },
    {
      "cell_type": "code",
      "execution_count": null,
      "metadata": {
        "id": "YVLQTz5Ndu0h"
      },
      "outputs": [],
      "source": [
        "mes_baja = ventas_mensuales.index(min(ventas_mensuales)) + 1\n",
        "mes_alta = ventas_mensuales.index(max(ventas_mensuales)) + 1\n",
        "print(f\"Mes con la venta más baja: {mes_baja} (Venta: {min(ventas_mensuales)} unidades)\")\n",
        "print(f\"Mes con la venta más alta: {mes_alta} (Venta: {max(ventas_mensuales)} unidades)\")"
      ]
    },
    {
      "cell_type": "markdown",
      "metadata": {
        "id": "CAMB9Gx7du0i"
      },
      "source": [
        "# Problema 2: Análisis de Temperaturas Diarias usando NumPy\n",
        "Como meteorólogo, necesitas analizar las temperaturas diarias registradas en tu ciudad durante el último mes. Usarás la librería NumPy para trabajar eficientemente con los datos de temperaturas. El objetivo es calcular la temperatura media, la temperatura máxima y mínima, y visualizar las temperaturas en un gráfico de línea.\n",
        "\n",
        "## Datos Iniciales\n",
        "Las temperaturas diarias registradas en el último mes (30 días) son las siguientes:"
      ]
    },
    {
      "cell_type": "code",
      "execution_count": null,
      "metadata": {
        "id": "7j-2g2Gudu0i"
      },
      "outputs": [],
      "source": [
        "import numpy as np\n",
        "\n",
        "temperaturas_diarias = np.array([22.5, 21.3, 23.1, 25.0, 24.5, 22.1, 23.7, 24.8, 25.3, 26.1,\n",
        "                                 23.4, 24.0, 22.9, 21.5, 23.0, 24.3, 25.0, 24.7, 23.1, 22.4,\n",
        "                                 23.5, 24.1, 25.4, 26.0, 24.8, 23.9, 22.7, 23.3, 24.5, 25.1])"
      ]
    },
    {
      "cell_type": "markdown",
      "metadata": {
        "id": "W9ZyHkbQdu0i"
      },
      "source": [
        "## Tareas:\n",
        "**Calcula la temperatura media del mes.**"
      ]
    },
    {
      "cell_type": "code",
      "execution_count": null,
      "metadata": {
        "id": "G-KfeoP2du0i"
      },
      "outputs": [],
      "source": [
        "temperatura_media = np.mean(temperaturas_diarias)\n",
        "print(f\"Temperatura media del mes: {temperatura_media:.2f}°C\")"
      ]
    },
    {
      "cell_type": "markdown",
      "metadata": {
        "id": "gY4-Rnvidu0i"
      },
      "source": [
        "**Encuentra la temperatura máxima y mínima del mes.**"
      ]
    },
    {
      "cell_type": "code",
      "execution_count": null,
      "metadata": {
        "id": "YeqghCuqdu0i"
      },
      "outputs": [],
      "source": [
        "temperatura_maxima = np.max(temperaturas_diarias)\n",
        "temperatura_minima = np.min(temperaturas_diarias)\n",
        "print(f\"Temperatura máxima del mes: {temperatura_maxima}°C\")\n",
        "print(f\"Temperatura mínima del mes: {temperatura_minima}°C\")"
      ]
    },
    {
      "cell_type": "markdown",
      "metadata": {
        "id": "Enq02gQWdu0n"
      },
      "source": [
        "**Genera un gráfico de línea de las temperaturas diarias.**"
      ]
    },
    {
      "cell_type": "code",
      "execution_count": null,
      "metadata": {
        "id": "iA8YHPyodu0n"
      },
      "outputs": [],
      "source": [
        "import matplotlib.pyplot as plt\n",
        "\n",
        "dias = np.arange(1, 31)\n",
        "plt.plot(dias, temperaturas_diarias, marker='o')\n",
        "plt.xlabel('Día')\n",
        "plt.ylabel('Temperatura (°C)')\n",
        "plt.title('Temperaturas Diarias del Último Mes')\n",
        "plt.grid(True)\n",
        "plt.show()"
      ]
    }
  ],
  "metadata": {
    "colab": {
      "include_colab_link": true,
      "provenance": [],
      "toc_visible": true
    },
    "kernelspec": {
      "display_name": "Python 3",
      "name": "python3"
    },
    "language_info": {
      "codemirror_mode": {
        "name": "ipython",
        "version": 3
      },
      "file_extension": ".py",
      "mimetype": "text/x-python",
      "name": "python",
      "nbconvert_exporter": "python",
      "pygments_lexer": "ipython3",
      "version": "3.12.2"
    }
  },
  "nbformat": 4,
  "nbformat_minor": 0
}
