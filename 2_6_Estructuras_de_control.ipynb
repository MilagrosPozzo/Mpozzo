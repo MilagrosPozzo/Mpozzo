{
  "cells": [
    {
      "cell_type": "markdown",
      "metadata": {
        "colab_type": "text",
        "id": "view-in-github"
      },
      "source": [
        "<a href=\"https://colab.research.google.com/github/MilagrosPozzo/Programacion-1/blob/main/2_6_Estructuras_de_control.ipynb\" target=\"_parent\"><img src=\"https://colab.research.google.com/assets/colab-badge.svg\" alt=\"Open In Colab\"/></a>"
      ]
    },
    {
      "cell_type": "markdown",
      "metadata": {
        "id": "UG0BflsZQk3v"
      },
      "source": [
        "# 6. Estructuras de control"
      ]
    },
    {
      "cell_type": "markdown",
      "metadata": {
        "id": "R5HHsfjCQpiW"
      },
      "source": [
        "En cualquier programa, es esencial poder controlar el flujo de la ejecución. Aquí es donde entran en juego las estructuras de control, que nos permiten tomar decisiones y repetir acciones en nuestros programas. Antes de adentrarnos en los detalles de estas estructuras, recordemos algunos conceptos fundamentales de tipos de datos y operadores que hemos visto previamente. Los tipos de datos, como enteros, cadenas y booleanos, junto con los operadores de comparación y lógicos, son fundamentales para evaluar las condiciones que rigen nuestras decisiones. Además, la entrada y salida de datos nos permiten interactuar con el usuario, obteniendo información necesaria y mostrando resultados relevantes. Estas habilidades serán cruciales al trabajar con declaraciones condicionales, como if, elif y else, que nos permiten desarrollar programas dinámicos que responden a diferentes situaciones. Vamos a explorar estas estructuras de control en más detalle."
      ]
    },
    {
      "cell_type": "markdown",
      "metadata": {
        "id": "S9WqCCHyQt-6"
      },
      "source": [
        "## a. Cruce de Decisiones: Condicionales"
      ]
    },
    {
      "cell_type": "markdown",
      "metadata": {
        "id": "9qq9Wp-5Qv-0"
      },
      "source": [
        "Las estructuras de control son como los signos de tráfico en el camino de la ejecución de nuestro programa. Nos permiten tomar decisiones basadas en diferentes condiciones y repetir ciertas acciones hasta que se cumpla una condición. En Python, los condicionales se manejan con las palabras clave if, elif y else.\n",
        "\n",
        "Vamos a imaginar que estamos desarrollando un programa para determinar si un estudiante ha aprobado o reprobado un examen basado en su calificación."
      ]
    },
    {
      "cell_type": "code",
      "execution_count": null,
      "metadata": {
        "id": "R0NsZaZvQ1f5"
      },
      "outputs": [],
      "source": [
        "calificacion = int(input(\"Por favor ingrese la calificación del estudiante: \"))\n",
        "\n",
        "if calificacion >= 6:\n",
        "    print(\"El estudiante ha aprobado el examen.\")\n",
        "else:\n",
        "    print(\"El estudiante ha reprobado el examen.\")"
      ]
    },
    {
      "cell_type": "markdown",
      "metadata": {
        "id": "KlZiQh96RCvG"
      },
      "source": [
        "En este ejemplo, el programa pide al usuario que ingrese la calificación del estudiante. Luego, usa una declaración if para comprobar si la calificación es igual o superior a 6. Si es así, el programa imprime un mensaje diciendo que el estudiante ha aprobado. Si no es así, el programa imprime un mensaje diciendo que el estudiante ha reprobado."
      ]
    },
    {
      "cell_type": "markdown",
      "metadata": {
        "id": "CfXq4JRD7hBS"
      },
      "source": [
        "A menudo, cuando programamos, nos encontramos con situaciones donde no basta con preguntar \"¿es esto cierto o falso?\". La realidad suele ser más compleja y necesitamos considerar múltiples condiciones. Por ejemplo, ¿qué pasa si queremos saber si un número es positivo, negativo o cero? No podemos limitarnos a una sola pregunta. Aquí es donde el uso de elif se vuelve esencial, permitiéndonos manejar varios escenarios posibles con claridad y precisión."
      ]
    },
    {
      "cell_type": "code",
      "execution_count": null,
      "metadata": {
        "id": "3sU_WW5T7hBT"
      },
      "outputs": [],
      "source": [
        "numero = float(input(\"Ingrese un número: \"))\n",
        "\n",
        "if numero > 0:\n",
        "    print(f\"{numero} es un número positivo.\")\n",
        "elif numero == 0:\n",
        "    print(f\"{numero} es cero.\")\n",
        "else:\n",
        "    print(f\"{numero} es un número negativo.\")"
      ]
    },
    {
      "cell_type": "markdown",
      "metadata": {
        "id": "-M2PlXhU7hBV"
      },
      "source": [
        "A veces, nos encontramos en situaciones donde queremos asignar un valor a una variable dependiendo de una condición específica. Por ejemplo, queremos saber si un número es par o impar y asignar un valor basado en esa condición. En Python, podemos hacer esto de manera concisa utilizando expresiones condicionales en una sola línea. Esta técnica nos permite escribir código más limpio y directo. Aquí está la solución:"
      ]
    },
    {
      "cell_type": "code",
      "execution_count": null,
      "metadata": {
        "id": "lsAZlj-67hBW"
      },
      "outputs": [],
      "source": [
        "numero = int(input(\"Ingrese un número: \"))\n",
        "tipo_numero = \"par\" if numero % 2 == 0 else \"impar\"\n",
        "print(f\"El número {numero} es {tipo_numero}.\")"
      ]
    },
    {
      "cell_type": "markdown",
      "metadata": {
        "id": "dUMswdU3RFJs"
      },
      "source": [
        "## b. Ciclos Terminables: Bucles 'for'"
      ]
    },
    {
      "cell_type": "markdown",
      "metadata": {
        "id": "ataNihYiRHqQ"
      },
      "source": [
        "En ocasiones, necesitaremos repetir una acción varias veces. Aquí es donde los bucles entran en juego. Python ofrece dos tipos de bucles: for y while.\n",
        "\n",
        "Para ilustrar cómo funcionan, vamos a usar un ejemplo simple. Supongamos que queremos imprimir los números del 1 al 5."
      ]
    },
    {
      "cell_type": "code",
      "execution_count": null,
      "metadata": {
        "id": "vCaDA9g5RLTj"
      },
      "outputs": [],
      "source": [
        "for numero in range(1, 6):\n",
        "    print(numero)"
      ]
    },
    {
      "cell_type": "markdown",
      "metadata": {
        "id": "eDRQRryUROIi"
      },
      "source": [
        "En este caso, el bucle for recorre los números del 1 al 5 (el límite superior en range() es exclusivo), imprimiendo cada número en la consola.\n",
        "\n",
        "Las estructuras de control, los condicionales y los bucles son fundamentales en la programación. Nos permiten crear programas más dinámicos y flexibles, capaces de tomar decisiones y repetir tareas basadas en las condiciones que definamos."
      ]
    },
    {
      "cell_type": "markdown",
      "metadata": {
        "id": "V-uEdgXwRQ86"
      },
      "source": [
        "## c. Please, stop the 'while'"
      ]
    },
    {
      "cell_type": "markdown",
      "metadata": {
        "id": "Zq6WuZ2o7hBa"
      },
      "source": [
        "Primero vamos a ver que es \"while\", es un bucle que repite un bloque de codigo mientras sea verdadera, en nuestras palabras imaginemos que tenemos 10 ml de agua este estara con agua que es nuestra verdad hasta que lo terminamos ahi paso a ser falso entonces se terminaria el bucle"
      ]
    },
    {
      "cell_type": "markdown",
      "metadata": {
        "id": "mR47-zpZS6SE"
      },
      "source": [
        "Vamos a aplicar nuestro conocimiento recién adquirido sobre bucles para resolver un problema real: calcular el promedio de las calificaciones de un estudiante. Supongamos que un estudiante nos proporciona sus calificaciones una por una. El estudiante indicará que ha terminado de proporcionar las calificaciones ingresando el número 0."
      ]
    },
    {
      "cell_type": "code",
      "execution_count": null,
      "metadata": {
        "id": "dOIrCor0S8sH"
      },
      "outputs": [],
      "source": [
        "suma_calificaciones = 0\n",
        "contador_asignaturas = 0\n",
        "\n",
        "calificacion = int(input(\"Ingrese una calificación (entre 1 y 12) o 0 para terminar: \"))\n",
        "\n",
        "while calificacion != 0:\n",
        "    suma_calificaciones += calificacion\n",
        "    contador_asignaturas += 1\n",
        "    calificacion = int(input(\"Ingrese una calificación (entre 1 y 12) o 0 para terminar: \"))\n",
        "\n",
        "promedio = suma_calificaciones / contador_asignaturas\n",
        "print(f\"El promedio de las calificaciones es: {promedio}\")"
      ]
    },
    {
      "cell_type": "markdown",
      "metadata": {
        "id": "yd1hyqUfTZxw"
      },
      "source": [
        "En este código, el bucle while se ejecuta hasta que el estudiante ingrese 0. Si bien es sencillo y cumple con su objetivo, este código no verifica si las calificaciones ingresadas están dentro del rango válido (1 a 12)."
      ]
    },
    {
      "cell_type": "markdown",
      "metadata": {
        "id": "OIoa2RMNTaeq"
      },
      "source": [
        "## d. Controlando el Flujo con 'break' y 'continue'"
      ]
    },
    {
      "cell_type": "markdown",
      "metadata": {
        "id": "_N5yXORgTfjB"
      },
      "source": [
        "Ahora, vamos a mejorar nuestro código anterior incorporando las declaraciones break y continue para un mejor control del flujo del programa y la validación de las calificaciones."
      ]
    },
    {
      "cell_type": "markdown",
      "metadata": {
        "id": "5OpG-Wx1TrIM"
      },
      "source": [
        "En este código, la declaración break se utiliza para detener el bucle cuando el estudiante ingresa 0. Por otro lado, la declaración continue se usa para saltar a la próxima iteración del bucle si la calificación ingresada no está dentro del rango válido, evitando así que calificaciones incorrectas se sumen a suma_calificaciones y se cuenten en contador_asignaturas."
      ]
    },
    {
      "cell_type": "code",
      "execution_count": null,
      "metadata": {
        "id": "Xc8_XEQPTiRQ"
      },
      "outputs": [],
      "source": [
        "suma_calificaciones = 0\n",
        "contador_asignaturas = 0\n",
        "\n",
        "while True:\n",
        "    calificacion = int(input(\"Ingrese una calificación (entre 1 y 12) o 0 para terminar: \"))\n",
        "\n",
        "    if calificacion == 0:\n",
        "        break\n",
        "\n",
        "    if calificacion < 1 or calificacion > 12:\n",
        "        print(\"La calificación debe estar entre 1 y 12. Inténtalo de nuevo.\")\n",
        "        continue\n",
        "\n",
        "    suma_calificaciones += calificacion\n",
        "    contador_asignaturas += 1\n",
        "\n",
        "promedio = suma_calificaciones / contador_asignaturas\n",
        "print(f\"El promedio de las calificaciones es: {promedio}\")"
      ]
    },
    {
      "cell_type": "markdown",
      "metadata": {
        "id": "LkwXhVW1Txa4"
      },
      "source": [
        "# Desafíos\n"
      ]
    },
    {
      "cell_type": "markdown",
      "metadata": {
        "id": "F-ti-8L-V0lP"
      },
      "source": [
        "## Desafío 1: Calificaciones Aprobatorias y Desaprobatorias\n",
        "\n",
        "Supón que estás analizando las calificaciones de los estudiantes y quieres saber cuántos aprobaron y cuántos desaprobaron. Se considera que una calificación de 7 o superior es aprobatoria y cualquier calificación menor a 7 es desaprobatoria. Utiliza lo que aprendiste sobre bucles y condicionales para resolver este problema."
      ]
    },
    {
      "cell_type": "markdown",
      "metadata": {},
      "source": [
        "### Descripción general\n",
        "\n",
        "El código solicita al usuario los nombres y calificaciones de los estudiantes.\n",
        " \n",
        "Primero debemos saber las calificaciones de los estudiantes, se lo vamos a preguntar con input y convertirlo a flotante, que permite al usuario ingresar calificaciones de estudiantes hasta que ingrese un valor específico (por ejemplo, 0) para salir del ciclo.\n",
        "\n",
        "Después vamos a hacer una comparación para saber si la calificación es mayor o igual a 9, en caso de que sea así, imprimimos que ha exonerado.\n",
        "\n",
        "En caso de que no, entonces indicamos desaprobado."
      ]
    },
    {
      "cell_type": "markdown",
      "metadata": {},
      "source": [
        "### Explicación del código\n",
        "- Inicialización de contadores: aprobados se inicializa en 0, y se utilizará para contar el número de estudiantes aprobados (con calificación mayor o igual a 7).\n",
        "desaprobados también se inicializa en 0 y se utilizará para contar el número de estudiantes que están desaprobados (con calificación menor a 7).\n",
        "- Bucle para ingresar datos de los estudiantes: El bucle while True permite al usuario ingresar datos de los estudiantes hasta que decida salir (ingresando ‘0’).\n",
        "- En cada iteración del bucle: Se solicita al usuario el nombre del estudiante.\n",
        "Si el usuario ingresa ‘x’, el bucle se rompe y se sale del programa.\n",
        "De lo contrario, se solicita al usuario la calificación del estudiante.\n",
        "- Verificación de aprobación: Se verifica si la calificación del estudiante es mayor o igual a 7.\n",
        "Si es así, se incrementa el contador aprobados.\n",
        "De lo contrario, se incrementa el contador desaprobados.\n",
        "- Impresión de resultados:Al final del bucle, se imprime el número de estudiantes exonerados y el número de estudiantes desaprobados."
      ]
    },
    {
      "cell_type": "code",
      "execution_count": null,
      "metadata": {},
      "outputs": [],
      "source": [
        "# Inicializar el código\n",
        "aprobados = 0  # Contador de estudiantes aprobados \n",
        "desaprobados = 0  # Contador de estudiantes que están desaprobados\n",
        "\n",
        "# Bucle para ingresar los datos de los estudiantes\n",
        "while True:\n",
        "    # Solicitar al usuario el nombre del estudiante\n",
        "    estudiante = input(\"Ingresa el nombre del estudiante (o '0' para salir): \")\n",
        "\n",
        "    # Verificar si el usuario desea salir\n",
        "    if estudiante == '0':\n",
        "        break\n",
        "\n",
        "    # Solicitar al usuario la calificación del estudiante\n",
        "    calificacion = int(input(f\"Ingresa la calificación de {estudiante}: \"))\n",
        "\n",
        "    # Verificar si el estudiante aprobó o no\n",
        "    if calificacion >= 7:\n",
        "        aprobados += 1  # Incrementar contador de aprobados\n",
        "    else:\n",
        "        desaprobados += 1  # Incrementar contador de desaprobados\n",
        "\n",
        "# Imprimir el número de estudiantes exonerados y desaprobados\n",
        "print(\"Estudiantes aprobados:\", aprobados)\n",
        "print(\"Estudiantes desaprobados:\", desaprobados)"
      ]
    },
    {
      "cell_type": "markdown",
      "metadata": {},
      "source": [
        "Ver códigos anteriores en el siguiente replit: https://replit.com/@milagrospozzofa/Calificaciones#main.py"
      ]
    },
    {
      "cell_type": "markdown",
      "metadata": {},
      "source": [
        "Se puede realizar una verificación explícita de si la entrada de calificación es un número válido o no. Esto podría ocasionar un error si el usuario ingresa un valor no numérico."
      ]
    },
    {
      "cell_type": "code",
      "execution_count": null,
      "metadata": {},
      "outputs": [],
      "source": [
        "except ValueError:\n",
        "    print(\"Calificación no válida. Debe ser un número.\")\n",
        "    continue"
      ]
    },
    {
      "cell_type": "markdown",
      "metadata": {},
      "source": [
        "En lugar de dar la cantidad de aprobados o desaprobados se puede modificar los resultados finales mostrando nombre del estudiante y calificiación.\n",
        "\n",
        "Se inicializaron aprobados y desaprobados como diccionarios vacíos en lugar de intentar agregarles valores iniciales.\n",
        "\n",
        "La razón por la que se utilizan llaves {} en lugar de corchetes [] para inicializar aprobados y desaprobados es porque los diccionarios en Python se definen con llaves, mientras que las listas se definen con corchetes.\n",
        "\n",
        "En Python, los diccionarios son estructuras de datos que almacenan pares clave-valor. Cada elemento en un diccionario consta de una clave única y un valor asociado a esa clave. Los diccionarios se crean colocando los pares clave-valor entre llaves {} separados por comas.\n",
        "\n",
        "Por otro lado, las listas son estructuras de datos que almacenan colecciones ordenadas de elementos. Los elementos de una lista se colocan entre corchetes [] y se separan por comas.\n",
        "\n",
        "En el código proporido, aprobados y desaprobados son diccionarios que almacenan los nombres de los estudiantes como claves y sus calificaciones como valores asociados. Por lo tanto, es correcto inicializarlos como diccionarios vacíos utilizando llaves {}:"
      ]
    },
    {
      "cell_type": "code",
      "execution_count": null,
      "metadata": {},
      "outputs": [],
      "source": [
        "aprobados = {}\n",
        "desaprobados = {}"
      ]
    },
    {
      "cell_type": "code",
      "execution_count": null,
      "metadata": {},
      "outputs": [],
      "source": [
        "aprobados = {}\n",
        "desaprobados = {}\n",
        "\n",
        "# Bucle para ingresar los datos de los estudiantes\n",
        "while True:\n",
        "    # Solicitar al usuario el nombre y apellido del estudiante\n",
        "    nombre_completo = input(\"Ingrese el nombre y apellido del estudiante (o '0' para salir): \")\n",
        "    \n",
        "    # Verificar si el usuario desea salir\n",
        "    if nombre_completo.lower() == \"0\":\n",
        "        break\n",
        "    \n",
        "    # Solicitar al usuario la calificación del estudiante\n",
        "    calificacion = input(f\"Ingrese la calificación de {nombre_completo} (o '0' para salir): \")\n",
        "    \n",
        "    # Verificar si el usuario desea salir\n",
        "    if calificacion.lower() == \"0\":\n",
        "        break\n",
        "    \n",
        "    try:\n",
        "        # Convertir la calificación a entero\n",
        "        calificacion = int(calificacion)\n",
        "        \n",
        "        # Verificar si el estudiante aprobado o queda desaprobado y actualizar los contadores\n",
        "        if calificacion >= 7:\n",
        "            print(f\"El estudiante {nombre_completo} tiene una calificación de {calificacion} y está aprobado.\")\n",
        "            aprobados[nombre_completo] = calificacion\n",
        "        else:\n",
        "            print(f\"El estudiante {nombre_completo} tiene una calificación de {calificacion} y está desaprobado.\")\n",
        "            desaprobados[nombre_completo] = calificacion\n",
        "    except ValueError:\n",
        "        print(f\"Error: La calificación ingresada '{calificacion}' no es válida. Debe ser un número entero.\")\n",
        "\n",
        "# Mostrar resultados finales\n",
        "print(\"\\nAprobados (>= 7):\")\n",
        "for nombre_completo, calificacion in aprobados.items():\n",
        "    print(f\"{nombre_completo}: {calificacion}\")\n",
        "\n",
        "print(\"\\nDesaprobados (< 7):\")\n",
        "for nombre_completo, calificacion in desaprobados.items():\n",
        "    print(f\"{nombre_completo}: {calificacion}\")"
      ]
    },
    {
      "cell_type": "markdown",
      "metadata": {},
      "source": [
        "Ver solución del código en el siguiente replit: https://replit.com/@milagrospozzofa/Calificaciones-2023"
      ]
    },
    {
      "cell_type": "markdown",
      "metadata": {},
      "source": [
        "💡 *Otra opción es resolver el desafío con datos predefinidos*\n",
        "### Descripción general\n",
        "\n",
        "En este enfoque, iteramos sobre la lista datos dos veces: una vez para imprimir los nombres y calificaciones de los estudiantes exonerados, y otra vez para imprimir los nombres y calificaciones de los estudiantes habilitados a evaluación complementaria. En cada iteración, evaluamos la calificación e imprimimos el nombre y la calificación del estudiante si cumple con la condición correspondiente.\n",
        "### Explicación del código\n",
        "1. Lista de datos datos:\n",
        "\n",
        "La variable datos almacena una lista de tuplas, cada una compuesta por un nombre de estudiante (string) y su calificación correspondiente (entero).\n",
        "Cada tupla representa un registro de un estudiante.\n",
        "Ejemplo de tuplas en la lista:\n",
        "(\"Juan López\", 8): Estudiante \"Juan López\" con calificación 8.\n",
        "(\"Maria Sola\", 10): Estudiante \"Maria Sola\" con calificación 10.\n",
        "\n",
        "2. Bucle para estudiantes aprobados:\n",
        "\n",
        "print(\"Estudiantes aprobados:\"): Imprime un encabezado para la sección de estudiantes aprobados.\n",
        "for nombre, calificación in datos::\n",
        "Recorre cada tupla en la lista datos.\n",
        "Asigna cada elemento de la tupla a las variables nombre y calificación.\n",
        "if calificación >= 7::\n",
        "Evalúa si la calificación actual es mayor o igual a 7.\n",
        "Si se cumple la condición:\n",
        "print(f\"{nombre}: {calificación}\"): Imprime el nombre y la calificación del estudiante aprobado.\n",
        "\n",
        "3. Bucle para estudiantes desaprobados:\n",
        "\n",
        "print(\"\\nEstudiantes desaprobados:\"): Imprime un encabezado para la sección de estudiantes desaprobados\n",
        "for nombre, calificación in datos::\n",
        "Recorre cada tupla en la lista datos.\n",
        "Asigna cada elemento de la tupla a las variables nombre y calificación.\n",
        "if calificación < 7::\n",
        "Evalúa si la calificación actual es menor a 7.\n",
        "Si se cumple la condición:\n",
        "print(f\"{nombre}: {calificación}\"): Imprime el nombre y la calificación del estudiante desaprobado.\n",
        "\n",
        "* Explicación de las llaves ({}): Las llaves se utilizan en dos lugares del código:\n",
        "\n",
        "Dentro de la función print:\n",
        "\n",
        "print(f\"{nombre}: {calificación}\"):\n",
        "Las llaves se usan para formatear la cadena de salida.\n",
        "Permiten insertar variables (nombre y calificación) dentro de la cadena de texto.\n",
        "El resultado es una cadena con el nombre y la calificación del estudiante formateados correctamente.\n",
        "* Dentro de la condición if:\n",
        "\n",
        "if calificación >= 7: y if calificación < 7::\n",
        "Las llaves se usan para delimitar el bloque de código que se ejecuta si la condición se cumple.\n",
        "El bloque de código dentro de las llaves contiene la instrucción print para mostrar el nombre y la calificación del estudiante."
      ]
    },
    {
      "cell_type": "code",
      "execution_count": 11,
      "metadata": {},
      "outputs": [
        {
          "name": "stdout",
          "output_type": "stream",
          "text": [
            "Estudiantes aprobados:\n",
            "Juan López: 8\n",
            "Maria Sola: 10\n",
            "Carlos Asis: 8\n",
            "Agustin Carro: 7\n",
            "Lucas Pay: 9\n",
            "Antonhy Ercila: 9\n",
            "\n",
            "Estudiantes desaprobados:\n",
            "Pedro Gómez: 5\n",
            "Ana Piva: 5\n",
            "Paula Cabral: 2\n"
          ]
        }
      ],
      "source": [
        "# Lista de nombres y calificaciones\n",
        "datos = [\n",
        "    (\"Juan López\", 8),\n",
        "    (\"Maria Sola\", 10),\n",
        "    (\"Pedro Gómez\", 5),\n",
        "    (\"Ana Piva\", 5),\n",
        "    (\"Carlos Asis\", 8),\n",
        "    (\"Paula Cabral\", 2),\n",
        "    (\"Agustin Carro\", 7),\n",
        "    (\"Lucas Pay\", 9),\n",
        "    (\"Antonhy Ercila\", 9),\n",
        "]\n",
        "\n",
        "# Iterar sobre la lista de datos\n",
        "print(\"Estudiantes aprobados:\")\n",
        "for nombre, calificación in datos:\n",
        "    # Evaluar la calificación e imprimir el nombre si aprueba\n",
        "    if calificación >= 7:\n",
        "        print(f\"{nombre}: {calificación}\")\n",
        "\n",
        "print(\"\\nEstudiantes desaprobados:\")\n",
        "for nombre, calificación in datos:\n",
        "    # Evaluar la calificación e imprimir el nombre si está desaprobado\n",
        "    if calificación < 7:\n",
        "        print(f\"{nombre}: {calificación}\")"
      ]
    },
    {
      "cell_type": "markdown",
      "metadata": {},
      "source": [
        "💡 *En esta versión simplificada, el código  imprime un mensaje con el nombre y la calificación del estudiante, junto con una indicación de si está exonerado o habilitado para la evaluación complementaria.*\n",
        "- No se inicializan variables para almacenar los nombres y calificaciones de los estudiantes.\n",
        "- Se utiliza un bucle while para ingresar los nombres y calificaciones de los estudiantes.\n",
        "- Se utiliza la instrucción int(input()) para obtener la calificación del estudiante directamente como un número entero.\n",
        "- Se utiliza una estructura condicional if-else para determinar si el estudiante está exonerado o habilitado para la evaluación complementaria, basándose en su calificación.\n",
        "- Se imprime un mensaje correspondiente con el nombre y la calificación del estudiante, y si está exonerado o habilitado para la evaluación complementaria.\n",
        "\n",
        "Esta versión simplificada no almacena los datos de los estudiantes en ninguna estructura de datos, sino que simplemente imprime la información relevante en el momento. Es más sencilla y directa, pero no permite realizar operaciones adicionales con los datos de los estudiantes, como generar reportes o realizar cálculos adicionales."
      ]
    },
    {
      "cell_type": "code",
      "execution_count": null,
      "metadata": {},
      "outputs": [],
      "source": [
        "# Bucle para ingresar los datos de los estudiantes\n",
        "while True:\n",
        "    nombre = input(\"Ingresa el nombre del estudiante (o '0' para salir): \")\n",
        "    if nombre == '0':\n",
        "        break\n",
        "    \n",
        "    calificacion = int(input(f\"Ingresa la calificación de {nombre}: \"))\n",
        "    \n",
        "    # Determinar si el estudiante está aprobado o no\n",
        "    if calificacion >= 7:\n",
        "        print(f\"El estudiante {nombre} tiene una calificación de {calificacion} y está aprobado.\")\n",
        "    else:\n",
        "        print(f\"El estudiante {nombre} tiene una calificación de {calificacion} y está desaprobado.\")"
      ]
    },
    {
      "cell_type": "markdown",
      "metadata": {},
      "source": [
        "Ver solución del código en el siguiente replit: https://replit.com/@milagrospozzofa/Calificaciones-aprobado-y-desaprobado#main.py"
      ]
    },
    {
      "cell_type": "markdown",
      "metadata": {
        "id": "QCwpO0XhV_oA"
      },
      "source": [
        "## Desafío 2: Mejora del Cálculo del Promedio\n",
        "\n",
        "Toma el ejemplo del cálculo del promedio de calificaciones y mejóralo. En lugar de pedir las calificaciones una por una, modifica el código para pedir todas las calificaciones al mismo tiempo (el estudiante puede ingresar las calificaciones separadas por comas) y luego calcular el promedio."
      ]
    },
    {
      "cell_type": "code",
      "execution_count": null,
      "metadata": {},
      "outputs": [],
      "source": [
        "calificaciones = input(\"Ingresa las calificaciones separadas por comas (entre 1 y 12): \")\n",
        "calificaciones_lista = calificaciones.split(\",\")\n",
        "\n",
        "suma_calificaciones = 0\n",
        "contador_asignaturas = 0\n",
        "\n",
        "for calificacion in calificaciones_lista:\n",
        "    try:\n",
        "        calificacion_entero = int(calificacion.strip())\n",
        "        if 1 <= calificacion_entero <= 12:\n",
        "            suma_calificaciones += calificacion_entero\n",
        "            contador_asignaturas += 1\n",
        "        else:\n",
        "            print(f\"La calificación {calificacion_entero} está fuera del rango permitido (debe estar entre 1 y 12).\")\n",
        "    except ValueError:\n",
        "        print(f\"La entrada '{calificacion}' no es un número válido. Inténtalo de nuevo.\")\n",
        "\n",
        "if contador_asignaturas > 0:\n",
        "    promedio = suma_calificaciones / contador_asignaturas\n",
        "    print(f\"El promedio de las calificaciones es: {promedio:.2f}\")\n",
        "else:\n",
        "    print(\"No se ingresaron calificaciones válidas.\")"
      ]
    },
    {
      "cell_type": "markdown",
      "metadata": {},
      "source": []
    },
    {
      "cell_type": "markdown",
      "metadata": {
        "id": "DGHX8zGvWK5k"
      },
      "source": [
        "## Desafío 3: Simulación de una Carrera de Autos\n",
        "\n",
        "Vas a simular una carrera de autos. Cada auto tiene una velocidad aleatoria (puedes usar la biblioteca random de Python) y cada ciclo del bucle representa un segundo de la carrera. Al final de cada segundo, cada auto avanza una distancia igual a su velocidad. La carrera dura 10 segundos. Al final de la carrera, debes imprimir el auto ganador. Si hay un empate, debes imprimir todos los autos que empataron.\n",
        "\n",
        "*Nota:* Este desafío puede requerir que aprendas sobre conceptos adicionales, por ejemplo cómo generar números aleatorios."
      ]
    },
    {
      "cell_type": "markdown",
      "metadata": {
        "id": "RLrgqVsaVxSZ"
      },
      "source": [
        "# Problemas"
      ]
    },
    {
      "cell_type": "markdown",
      "metadata": {
        "id": "-aldGZ8yVyJ_"
      },
      "source": [
        "## Problema: Cálculo de Gastos de un Viaje\n",
        "\n",
        "Supongamos que estás planeando un viaje y quieres calcular el total de gastos estimados. Tienes un arreglo de los diferentes conceptos de gastos (por ejemplo, transporte, alojamiento, alimentación, actividades, etc.) y quieres solicitar al usuario que ingrese el costo estimado para cada concepto. Al final, quieres mostrar el total de gastos estimados para el viaje.\n",
        "\n",
        "Planteamiento del problema:\n",
        "* Crea un arreglo de conceptos de gastos.\n",
        "* Utiliza un bucle for para iterar sobre el arreglo y solicitar al usuario que ingrese el costo estimado para cada concepto.\n",
        "* Utiliza una variable para realizar el seguimiento del total de gastos estimados, inicializada en 0.\n",
        "* Dentro del bucle, agrega el costo ingresado a la variable del total de gastos estimados.\n",
        "* Al final del bucle, muestra el total de gastos estimados.\n",
        "\n",
        "Aquí tienes un ejemplo de cómo podrías resolver este desafío utilizando arreglos:"
      ]
    },
    {
      "cell_type": "code",
      "execution_count": null,
      "metadata": {
        "id": "A9duJ5uFYY81"
      },
      "outputs": [],
      "source": [
        "import numpy as np\n",
        "\n",
        "conceptos_gastos = np.array(['Transporte', 'Alojamiento', 'Alimentación', 'Actividades', 'Otros'])\n",
        "\n",
        "total_gastos = 0\n",
        "\n",
        "for concepto in conceptos_gastos:\n",
        "    costo = float(input(f\"Ingrese el costo estimado para {concepto}: \"))\n",
        "    total_gastos += costo\n",
        "\n",
        "print(f\"El total de gastos estimados para el viaje es: {total_gastos}\")"
      ]
    },
    {
      "cell_type": "markdown",
      "metadata": {
        "id": "jI7zImR4YjP2"
      },
      "source": [
        "En este código, utilizamos un bucle for para iterar sobre el arreglo de conceptos de gastos. En cada iteración, solicitamos al usuario que ingrese el costo estimado para ese concepto y lo sumamos al total de gastos estimados. Al final, mostramos el resultado.\n",
        "\n",
        "¡Ahora puedes calcular fácilmente el total de gastos estimados para tu próximo viaje utilizando arreglos! ¡Es asombroso cómo Python nos permite resolver problemas de manera eficiente y sencilla! No te preocupes, en el próximo cuaderno exploraremos más a fondo los conceptos y funcionalidades de los arreglos en Python."
      ]
    },
    {
      "cell_type": "markdown",
      "metadata": {
        "id": "_OndWBmaYovM"
      },
      "source": [
        "## Problema: Análisis de Calificaciones utilizando Pandas y Bucles\n",
        "Supongamos que tienes un archivo CSV llamado \"calificaciones.csv\" que contiene las calificaciones de varios estudiantes. Tu objetivo es realizar un análisis de las calificaciones utilizando la biblioteca Pandas y bucles for.\n",
        "\n",
        "\n",
        "*Planteamiento del problema:*\n",
        "Importa la biblioteca Pandas.\n",
        "Carga el archivo CSV \"calificaciones.csv\" en un DataFrame de Pandas.\n",
        "Utiliza un bucle for para calcular el promedio de cada estudiante y mostrarlo en la consola.\n",
        "\n",
        "Aquí tienes un ejemplo de cómo podrías resolver este desafío utilizando Pandas y bucles for:"
      ]
    },
    {
      "cell_type": "code",
      "execution_count": null,
      "metadata": {
        "id": "ycHLwAYcbSob"
      },
      "outputs": [],
      "source": [
        "import pandas as pd\n",
        "\n",
        "# Carga el archivo CSV en un DataFrame\n",
        "df = pd.read_csv(\"calificaciones.csv\")\n",
        "\n",
        "# Inicializa variables para calcular el promedio general\n",
        "total_calificaciones = 0\n",
        "numero_calificaciones = 0\n",
        "\n",
        "# Utiliza un bucle for para sumar todas las calificaciones\n",
        "for index, row in df.iterrows():\n",
        "    nombre = row['Nombre']\n",
        "    calificacion = int(row['Calificacion'])\n",
        "    total_calificaciones += calificacion\n",
        "    numero_calificaciones += 1\n",
        "    print(f\"La calificación de {nombre} es: {calificacion}\")\n",
        "\n",
        "# Calcula el promedio general\n",
        "promedio_general = total_calificaciones / numero_calificaciones\n",
        "print(f\"El promedio general de las calificaciones es: {promedio_general:.2f}\")\n"
      ]
    },
    {
      "cell_type": "markdown",
      "metadata": {
        "id": "jOSCW8hyauFA"
      },
      "source": [
        "En este código, utilizamos Pandas para cargar el archivo CSV en un DataFrame. Luego, utilizamos un bucle for junto con iterrows() para iterar sobre cada fila del DataFrame. Para cada estudiante, extraemos el nombre y la calificación, para luego calcular el promedio.\n",
        "\n",
        "Finalmente, mostramos el promedio de cada estudiante en la consola."
      ]
    }
  ],
  "metadata": {
    "colab": {
      "include_colab_link": true,
      "provenance": [],
      "toc_visible": true
    },
    "kernelspec": {
      "display_name": "Python 3",
      "name": "python3"
    },
    "language_info": {
      "codemirror_mode": {
        "name": "ipython",
        "version": 3
      },
      "file_extension": ".py",
      "mimetype": "text/x-python",
      "name": "python",
      "nbconvert_exporter": "python",
      "pygments_lexer": "ipython3",
      "version": "3.12.2"
    }
  },
  "nbformat": 4,
  "nbformat_minor": 0
}
