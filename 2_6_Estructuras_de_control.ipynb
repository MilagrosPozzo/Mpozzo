{
  "cells": [
    {
      "cell_type": "markdown",
      "metadata": {
        "colab_type": "text",
        "id": "view-in-github"
      },
      "source": [
        "<a href=\"https://colab.research.google.com/github/MilagrosPozzo/Programacion-1/blob/main/2_6_Estructuras_de_control.ipynb\" target=\"_parent\"><img src=\"https://colab.research.google.com/assets/colab-badge.svg\" alt=\"Open In Colab\"/></a>"
      ]
    },
    {
      "cell_type": "markdown",
      "metadata": {
        "id": "UG0BflsZQk3v"
      },
      "source": [
        "# 6. Estructuras de control"
      ]
    },
    {
      "cell_type": "markdown",
      "metadata": {
        "id": "R5HHsfjCQpiW"
      },
      "source": [
        "En cualquier programa, es esencial poder controlar el flujo de la ejecución. Aquí es donde entran en juego las estructuras de control, que nos permiten tomar decisiones y repetir acciones en nuestros programas. Antes de adentrarnos en los detalles de estas estructuras, recordemos algunos conceptos fundamentales de tipos de datos y operadores que hemos visto previamente. Los tipos de datos, como enteros, cadenas y booleanos, junto con los operadores de comparación y lógicos, son fundamentales para evaluar las condiciones que rigen nuestras decisiones. Además, la entrada y salida de datos nos permiten interactuar con el usuario, obteniendo información necesaria y mostrando resultados relevantes. Estas habilidades serán cruciales al trabajar con declaraciones condicionales, como if, elif y else, que nos permiten desarrollar programas dinámicos que responden a diferentes situaciones. Vamos a explorar estas estructuras de control en más detalle."
      ]
    },
    {
      "cell_type": "markdown",
      "metadata": {
        "id": "S9WqCCHyQt-6"
      },
      "source": [
        "## a. Cruce de Decisiones: Condicionales"
      ]
    },
    {
      "cell_type": "markdown",
      "metadata": {
        "id": "9qq9Wp-5Qv-0"
      },
      "source": [
        "Las estructuras de control son como los signos de tráfico en el camino de la ejecución de nuestro programa. Nos permiten tomar decisiones basadas en diferentes condiciones y repetir ciertas acciones hasta que se cumpla una condición. En Python, los condicionales se manejan con las palabras clave if, elif y else.\n",
        "\n",
        "Vamos a imaginar que estamos desarrollando un programa para determinar si un estudiante ha aprobado o reprobado un examen basado en su calificación."
      ]
    },
    {
      "cell_type": "code",
      "execution_count": null,
      "metadata": {
        "id": "R0NsZaZvQ1f5"
      },
      "outputs": [],
      "source": [
        "calificacion = int(input(\"Por favor ingrese la calificación del estudiante: \"))\n",
        "\n",
        "if calificacion >= 6:\n",
        "    print(\"El estudiante ha aprobado el examen.\")\n",
        "else:\n",
        "    print(\"El estudiante ha reprobado el examen.\")"
      ]
    },
    {
      "cell_type": "markdown",
      "metadata": {
        "id": "KlZiQh96RCvG"
      },
      "source": [
        "En este ejemplo, el programa pide al usuario que ingrese la calificación del estudiante. Luego, usa una declaración if para comprobar si la calificación es igual o superior a 6. Si es así, el programa imprime un mensaje diciendo que el estudiante ha aprobado. Si no es así, el programa imprime un mensaje diciendo que el estudiante ha reprobado."
      ]
    },
    {
      "cell_type": "markdown",
      "metadata": {
        "id": "CfXq4JRD7hBS"
      },
      "source": [
        "A menudo, cuando programamos, nos encontramos con situaciones donde no basta con preguntar \"¿es esto cierto o falso?\". La realidad suele ser más compleja y necesitamos considerar múltiples condiciones. Por ejemplo, ¿qué pasa si queremos saber si un número es positivo, negativo o cero? No podemos limitarnos a una sola pregunta. Aquí es donde el uso de elif se vuelve esencial, permitiéndonos manejar varios escenarios posibles con claridad y precisión."
      ]
    },
    {
      "cell_type": "code",
      "execution_count": null,
      "metadata": {
        "id": "3sU_WW5T7hBT"
      },
      "outputs": [],
      "source": [
        "numero = float(input(\"Ingrese un número: \"))\n",
        "\n",
        "if numero > 0:\n",
        "    print(f\"{numero} es un número positivo.\")\n",
        "elif numero == 0:\n",
        "    print(f\"{numero} es cero.\")\n",
        "else:\n",
        "    print(f\"{numero} es un número negativo.\")"
      ]
    },
    {
      "cell_type": "markdown",
      "metadata": {
        "id": "-M2PlXhU7hBV"
      },
      "source": [
        "A veces, nos encontramos en situaciones donde queremos asignar un valor a una variable dependiendo de una condición específica. Por ejemplo, queremos saber si un número es par o impar y asignar un valor basado en esa condición. En Python, podemos hacer esto de manera concisa utilizando expresiones condicionales en una sola línea. Esta técnica nos permite escribir código más limpio y directo. Aquí está la solución:"
      ]
    },
    {
      "cell_type": "code",
      "execution_count": null,
      "metadata": {
        "id": "lsAZlj-67hBW"
      },
      "outputs": [],
      "source": [
        "numero = int(input(\"Ingrese un número: \"))\n",
        "tipo_numero = \"par\" if numero % 2 == 0 else \"impar\"\n",
        "print(f\"El número {numero} es {tipo_numero}.\")"
      ]
    },
    {
      "cell_type": "markdown",
      "metadata": {
        "id": "dUMswdU3RFJs"
      },
      "source": [
        "## b. Ciclos Terminables: Bucles 'for'"
      ]
    },
    {
      "cell_type": "markdown",
      "metadata": {
        "id": "ataNihYiRHqQ"
      },
      "source": [
        "En ocasiones, necesitaremos repetir una acción varias veces. Aquí es donde los bucles entran en juego. Python ofrece dos tipos de bucles: for y while.\n",
        "\n",
        "Para ilustrar cómo funcionan, vamos a usar un ejemplo simple. Supongamos que queremos imprimir los números del 1 al 5."
      ]
    },
    {
      "cell_type": "code",
      "execution_count": null,
      "metadata": {
        "id": "vCaDA9g5RLTj"
      },
      "outputs": [],
      "source": [
        "for numero in range(1, 6):\n",
        "    print(numero)"
      ]
    },
    {
      "cell_type": "markdown",
      "metadata": {
        "id": "eDRQRryUROIi"
      },
      "source": [
        "En este caso, el bucle for recorre los números del 1 al 5 (el límite superior en range() es exclusivo), imprimiendo cada número en la consola.\n",
        "\n",
        "Las estructuras de control, los condicionales y los bucles son fundamentales en la programación. Nos permiten crear programas más dinámicos y flexibles, capaces de tomar decisiones y repetir tareas basadas en las condiciones que definamos."
      ]
    },
    {
      "cell_type": "markdown",
      "metadata": {
        "id": "V-uEdgXwRQ86"
      },
      "source": [
        "## c. Please, stop the 'while'"
      ]
    },
    {
      "cell_type": "markdown",
      "metadata": {
        "id": "Zq6WuZ2o7hBa"
      },
      "source": [
        "Primero vamos a ver que es \"while\", es un bucle que repite un bloque de codigo mientras sea verdadera, en nuestras palabras imaginemos que tenemos 10 ml de agua este estara con agua que es nuestra verdad hasta que lo terminamos ahi paso a ser falso entonces se terminaria el bucle"
      ]
    },
    {
      "cell_type": "markdown",
      "metadata": {
        "id": "mR47-zpZS6SE"
      },
      "source": [
        "Vamos a aplicar nuestro conocimiento recién adquirido sobre bucles para resolver un problema real: calcular el promedio de las calificaciones de un estudiante. Supongamos que un estudiante nos proporciona sus calificaciones una por una. El estudiante indicará que ha terminado de proporcionar las calificaciones ingresando el número 0."
      ]
    },
    {
      "cell_type": "code",
      "execution_count": null,
      "metadata": {
        "id": "dOIrCor0S8sH"
      },
      "outputs": [],
      "source": [
        "suma_calificaciones = 0\n",
        "contador_asignaturas = 0\n",
        "\n",
        "calificacion = int(input(\"Ingrese una calificación (entre 1 y 12) o 0 para terminar: \"))\n",
        "\n",
        "while calificacion != 0:\n",
        "    suma_calificaciones += calificacion\n",
        "    contador_asignaturas += 1\n",
        "    calificacion = int(input(\"Ingrese una calificación (entre 1 y 12) o 0 para terminar: \"))\n",
        "\n",
        "promedio = suma_calificaciones / contador_asignaturas\n",
        "print(f\"El promedio de las calificaciones es: {promedio}\")"
      ]
    },
    {
      "cell_type": "markdown",
      "metadata": {
        "id": "yd1hyqUfTZxw"
      },
      "source": [
        "En este código, el bucle while se ejecuta hasta que el estudiante ingrese 0. Si bien es sencillo y cumple con su objetivo, este código no verifica si las calificaciones ingresadas están dentro del rango válido (1 a 12)."
      ]
    },
    {
      "cell_type": "markdown",
      "metadata": {
        "id": "OIoa2RMNTaeq"
      },
      "source": [
        "## d. Controlando el Flujo con 'break' y 'continue'"
      ]
    },
    {
      "cell_type": "markdown",
      "metadata": {
        "id": "_N5yXORgTfjB"
      },
      "source": [
        "Ahora, vamos a mejorar nuestro código anterior incorporando las declaraciones break y continue para un mejor control del flujo del programa y la validación de las calificaciones."
      ]
    },
    {
      "cell_type": "markdown",
      "metadata": {
        "id": "5OpG-Wx1TrIM"
      },
      "source": [
        "En este código, la declaración break se utiliza para detener el bucle cuando el estudiante ingresa 0. Por otro lado, la declaración continue se usa para saltar a la próxima iteración del bucle si la calificación ingresada no está dentro del rango válido, evitando así que calificaciones incorrectas se sumen a suma_calificaciones y se cuenten en contador_asignaturas."
      ]
    },
    {
      "cell_type": "code",
      "execution_count": null,
      "metadata": {
        "id": "Xc8_XEQPTiRQ"
      },
      "outputs": [],
      "source": [
        "suma_calificaciones = 0\n",
        "contador_asignaturas = 0\n",
        "\n",
        "while True:\n",
        "    calificacion = int(input(\"Ingrese una calificación (entre 1 y 12) o 0 para terminar: \"))\n",
        "\n",
        "    if calificacion == 0:\n",
        "        break\n",
        "\n",
        "    if calificacion < 1 or calificacion > 12:\n",
        "        print(\"La calificación debe estar entre 1 y 12. Inténtalo de nuevo.\")\n",
        "        continue\n",
        "\n",
        "    suma_calificaciones += calificacion\n",
        "    contador_asignaturas += 1\n",
        "\n",
        "promedio = suma_calificaciones / contador_asignaturas\n",
        "print(f\"El promedio de las calificaciones es: {promedio}\")"
      ]
    },
    {
      "cell_type": "markdown",
      "metadata": {
        "id": "LkwXhVW1Txa4"
      },
      "source": [
        "# Desafíos\n"
      ]
    },
    {
      "cell_type": "markdown",
      "metadata": {
        "id": "F-ti-8L-V0lP"
      },
      "source": [
        "## Desafío 1: Calificaciones Aprobatorias y Desaprobatorias\n",
        "\n",
        "Supón que estás analizando las calificaciones de los estudiantes y quieres saber cuántos aprobaron y cuántos desaprobaron. Se considera que una calificación de 7 o superior es aprobatoria y cualquier calificación menor a 7 es desaprobatoria. Utiliza lo que aprendiste sobre bucles y condicionales para resolver este problema."
      ]
    },
    {
      "cell_type": "markdown",
      "metadata": {},
      "source": [
        "### Descripción general\n",
        "Primero debemos saber las calificaciones de los estudiantes, se lo vamos a preguntar con input y convertirlo a flotante, que permite al usuario ingresar calificaciones de estudiantes hasta que ingrese un valor específico (por ejemplo, x) para salir del ciclo.\n",
        "\n",
        "Después vamos a hacer una comparación para saber si la calificación es mayor o igual a 7 (porque dice si tiene 7 o más), en caso de que sea así, imprimimos que ha aprobado.\n",
        "\n",
        "En caso de que no, entonces indicamos que no ha aprobado."
      ]
    },
    {
      "cell_type": "markdown",
      "metadata": {},
      "source": [
        "### Explicación del código\n",
        "Para hacer la comparación hacemos un if, y en caso de que se cumpla imprimimos aprobado. En caso de que no (en el else) imprimimos no aprobado."
      ]
    },
    {
      "cell_type": "code",
      "execution_count": null,
      "metadata": {},
      "outputs": [],
      "source": [
        "# Inicializar contadores para aprobados y reprobados\n",
        "aprobados = 0\n",
        "reprobados = 0\n",
        "\n",
        "# Bucle para ingresar los datos de los estudiantes\n",
        "while True:\n",
        "    # Solicitar al usuario el nombre y apellido del estudiante\n",
        "    nombre = input(\"Ingrese el nombre y apellido del estudiante (o 'x' para salir): \")\n",
        "    \n",
        "    # Verificar si el usuario desea salir\n",
        "    if nombre == \"x\":\n",
        "        break\n",
        "\n",
        "    # Solicitar al usuario la calificación del estudiante\n",
        "    calificacion = input(f\"Ingrese la calificación de {nombre} (o 'x' para salir): \")\n",
        "    \n",
        "    # Verificar si el usuario desea salir\n",
        "    if calificacion == \"x\":\n",
        "        break\n",
        "\n",
        "    try:\n",
        "        # Convertir la calificación a flotante\n",
        "        calificacion = float(calificacion)\n",
        "\n",
        "        # Verificar si el estudiante aprobó o reprobó y mostrar el resultado\n",
        "        if calificacion >= 7:\n",
        "            print(f\"El estudiante {nombre} tiene una calificación de {calificacion:.2f} y está aprobado.\")\n",
        "            aprobados += 1\n",
        "        else:\n",
        "            print(f\"El estudiante {nombre} tiene una calificación de {calificacion:.2f} y está reprobado.\")\n",
        "            reprobados += 1\n",
        "        \n",
        "    except ValueError:\n",
        "        print(\"Calificación no válida. Debe ser un número.\")\n",
        "        continue"
      ]
    },
    {
      "cell_type": "code",
      "execution_count": null,
      "metadata": {},
      "outputs": [],
      "source": [
        "# Inicializar contadores para aprobados y reprobados\n",
        "aprobados = 0\n",
        "reprobados = 0\n",
        "\n",
        "# Bucle para ingresar los datos de los estudiantes\n",
        "while True:\n",
        "    # Solicitar al usuario el nombre y apellido del estudiante\n",
        "    nombre = input(\"Ingrese el nombre y apellido del estudiante (o 'x' para salir): \")\n",
        "    \n",
        "    # Verificar si el usuario desea salir\n",
        "    if nombre == \"x\":\n",
        "        break\n",
        "\n",
        "    # Solicitar al usuario la calificación del estudiante\n",
        "    calificacion = input(f\"Ingrese la calificación de {nombre} (o 'x' para salir): \")\n",
        "    \n",
        "    # Verificar si el usuario desea salir\n",
        "    if calificacion == \"x\":\n",
        "        break\n",
        "\n",
        "    try:\n",
        "        # Convertir la calificación a flotante\n",
        "        calificacion = float(calificacion)\n",
        "\n",
        "        # Verificar si el estudiante aprobó o reprobó y mostrar el resultado\n",
        "        if calificacion >= 7:\n",
        "            print(f\"El estudiante {nombre}: {calificacion:.2f} aprobado.\")\n",
        "            aprobados += 1\n",
        "        else:\n",
        "            print(f\"El estudiante {nombre}: {calificacion:.2f} reprobado.\")\n",
        "            reprobados += 1\n",
        "        \n",
        "    except ValueError:\n",
        "        print(\"Calificación no válida. Debe ser un número.\")\n",
        "        continue\n",
        "\n",
        "# Imprimir el número de estudiantes aprobados y reprobados\n",
        "print(f\"\\nEstudiantes aprobados: {aprobados}\")\n",
        "print(f\"Estudiantes reprobados: {reprobados}\")"
      ]
    },
    {
      "cell_type": "markdown",
      "metadata": {},
      "source": [
        "💡 *Otra opción es resolver el desafío con datos predefinidos*\n",
        "### Descripción general\n",
        "\n",
        "En este enfoque, iteramos sobre la lista datos dos veces: una vez para imprimir los nombres y calificaciones de los estudiantes aprobados, y otra vez para imprimir los nombres y calificaciones de los estudiantes desaprobados. En cada iteración, evaluamos la calificación e imprimimos el nombre y la calificación del estudiante si cumple con la condición correspondiente.\n",
        "### Explicación del código\n",
        "1. Definimos una lista datos con los pares de nombre y calificación proporcionados. Cada par está representado como una tupla (nombre, calificación).\n",
        "- En este bloque de código, datos es una lista de tuplas. Cada tupla contiene el nombre de un estudiante y su calificación. Las tuplas están encerradas entre paréntesis rector [], lo que indica que son elementos de una lista.\n",
        "- La variable datos es una lista que contiene múltiples tuplas. Cada tupla dentro de datos contiene dos elementos: el nombre del estudiante y su calificación.\n",
        "2. Utilizamos un ciclo for para iterar sobre la lista datos. En cada iteración, desenvuelve el par (nombre, calificación) en dos variables separadas.\n",
        "- print(\"Estudiantes aprobados:\"):\n",
        "- print: Es una función que imprime el texto proporcionado en la consola.\n",
        "- \"Estudiantes aprobados:\": Es una cadena de texto que se imprimirá en la consola.\n",
        "3. Dentro del primer ciclo, evaluamos la calificación utilizando una instrucción condicional if. Si la calificación es mayor o igual a 7, imprimimos el nombre y la calificación del estudiante.\n",
        "4. Imprimimos un encabezado para los estudiantes desaprobados.\n",
        "- print: Es una función que imprime el texto proporcionado en la consola.\n",
        "- \"\\n\": Es un carácter de escape que representa un salto de línea, lo que significa que se imprimirá una línea en blanco antes del texto siguiente.\n",
        "- \"Estudiantes desaprobados:\": Es una cadena de texto que se imprimirá en la consola, indicando que se mostrarán los estudiantes que han desaprobado.\n",
        "5. Utilizamos otro ciclo for para iterar sobre la lista datos nuevamente.\n",
        "- for: Es una palabra clave utilizada para iniciar un bucle for.\n",
        "- nombre, calificación: Son variables que se utilizan para desempaquetar los elementos de cada tupla en la lista datos. nombre representa el primer elemento de la tupla (el nombre del estudiante) y calificacion representa el segundo elemento (la calificación del estudiante).\n",
        "- in: Es un operador utilizado para iterar sobre los elementos de una secuencia (en este caso, la lista datos).\n",
        "6. Dentro del segundo ciclo, evaluamos la calificación utilizando una instrucción condicional if. Si la calificación es menor a 7, imprimimos el nombre y la calificación del estudiante.\n",
        "- if: Es una palabra clave utilizada para iniciar una estructura condicional.\n",
        "- calificación < 7: Es una expresión booleana que evalúa si la calificación del estudiante actual es menor a 7.\n",
        "- print: Es una función que imprime el texto proporcionado en la consola.\n",
        "- f\"{nombre}: {calificación}\": Es una cadena de texto formateada (f-string) que muestra el nombre y la calificación del estudiante actual en cada iteración del bucle. {nombre} y {calificación} son placeholders que se reemplazarán con los valores reales durante la ejecución del programa."
      ]
    },
    {
      "cell_type": "code",
      "execution_count": 13,
      "metadata": {},
      "outputs": [
        {
          "name": "stdout",
          "output_type": "stream",
          "text": [
            "Estudiantes aprobados:\n",
            "Juan López: 8\n",
            "Maria Sola: 12\n",
            "Carlos Asis: 8\n",
            "Agustin Carro: 7\n",
            "Lucas Pay: 9\n",
            "Antonhy Ercila: 11\n",
            "\n",
            "Estudiantes desaprobados:\n",
            "Pedro Gómez: 5\n",
            "Ana Piva: 5\n",
            "Paula Cabral: 2\n"
          ]
        }
      ],
      "source": [
        "# Lista de nombres y calificaciones\n",
        "datos = [\n",
        "    (\"Juan López\", 8),\n",
        "    (\"Maria Sola\", 12),\n",
        "    (\"Pedro Gómez\", 5),\n",
        "    (\"Ana Piva\", 5),\n",
        "    (\"Carlos Asis\", 8),\n",
        "    (\"Paula Cabral\", 2),\n",
        "    (\"Agustin Carro\", 7),\n",
        "    (\"Lucas Pay\", 9),\n",
        "    (\"Antonhy Ercila\", 11),\n",
        "]\n",
        "\n",
        "# Iterar sobre la lista de datos\n",
        "print(\"Estudiantes aprobados:\")\n",
        "for nombre, calificación in datos:\n",
        "    # Evaluar la calificación e imprimir el nombre si es aprobado\n",
        "    if calificación >= 7:\n",
        "        print(f\"{nombre}: {calificación}\")\n",
        "\n",
        "print(\"\\nEstudiantes desaprobados:\")\n",
        "for nombre, calificación in datos:\n",
        "    # Evaluar la calificación e imprimir el nombre si es desaprobado\n",
        "    if calificación < 7:\n",
        "        print(f\"{nombre}: {calificación}\")"
      ]
    },
    {
      "cell_type": "markdown",
      "metadata": {},
      "source": [
        "🧠 *Para redondear una calificación de 6.5 a 7*"
      ]
    },
    {
      "cell_type": "code",
      "execution_count": null,
      "metadata": {},
      "outputs": [],
      "source": [
        "calificacion = round(calificacion + 0.5)"
      ]
    },
    {
      "cell_type": "markdown",
      "metadata": {},
      "source": [
        "En lugar de redondear directamente la calificación, estamos sumando 0.5 a la calificación antes de redondearla. Esto se conoce como \"redondeo al entero más próximo\" o \"redondeo aritmético\".\n",
        "Según las reglas de redondeo aritmético:\n",
        "\n",
        "Si la parte decimal es menor que 0.5, se redondea hacia abajo (por ejemplo, 6.4 se redondea a 6).\n",
        "Si la parte decimal es igual o mayor que 0.5, se redondea hacia arriba (por ejemplo, 6.5 se redondea a 7)."
      ]
    },
    {
      "cell_type": "code",
      "execution_count": 14,
      "metadata": {},
      "outputs": [
        {
          "name": "stdout",
          "output_type": "stream",
          "text": [
            "Estudiantes aprobados:\n",
            "Juan López: 7\n",
            "Maria Sola: 12\n",
            "Carlos Asis: 8\n",
            "\n",
            "Estudiantes desaprobados:\n",
            "Pedro Gómez: 6\n",
            "Ana Piva: 6\n",
            "Paula Cabral: 2\n"
          ]
        }
      ],
      "source": [
        "# Lista de nombres y calificaciones\n",
        "datos = [\n",
        "    (\"Juan López\", 6.5),\n",
        "    (\"Maria Sola\", 12),\n",
        "    (\"Pedro Gómez\", 5),\n",
        "    (\"Ana Piva\", 5),\n",
        "    (\"Carlos Asis\", 8),\n",
        "    (\"Paula Cabral\", 2),\n",
        "]\n",
        "\n",
        "# Iterar sobre la lista de datos\n",
        "print(\"Estudiantes aprobados:\")\n",
        "for nombre, calificacion in datos:\n",
        "    # Redondear calificación al entero más próximo\n",
        "    calificacion = round(calificacion + 0.5)\n",
        "\n",
        "    # Evaluar la calificación e imprimir el nombre si es aprobado\n",
        "    if calificacion >= 7:\n",
        "        print(f\"{nombre}: {calificacion}\")\n",
        "\n",
        "print(\"\\nEstudiantes desaprobados:\")\n",
        "for nombre, calificacion in datos:\n",
        "    # Redondear calificación al entero más próximo\n",
        "    calificacion = round(calificacion + 0.5)\n",
        "\n",
        "    # Evaluar la calificación e imprimir el nombre si es desaprobado\n",
        "    if calificacion < 7:\n",
        "        print(f\"{nombre}: {calificacion}\")"
      ]
    },
    {
      "cell_type": "markdown",
      "metadata": {},
      "source": [
        "💡 *Otra opción de solución sin datos predeterminados*\n",
        "1 . Se inicializan dos listas vacías: Estudiantes.\n",
        "* [] se utiliza para definir una lista vacía en Python.\n",
        "3. Se utiliza un bucle while para solicitar la entrada del usuario repetidamente hasta que ingrese 'x'.\n",
        "4. Dentro del bucle, se divide la entrada en nombre y calificación usando el método split(\",\").\n",
        "* split(\",\") es un método de cadenas en Python que divide una cadena en subcadenas utilizando la coma como separador.\n",
        "5. Se convierte la calificación a un número de punto flotante usando float(calificacion.strip()) y se eliminan los espacios en blanco adicionales con strip().\n",
        "* float() es una función incorporada en Python que convierte un valor a un número de punto flotante (decimal).\n",
        "* strip() es un método de cadenas en Python que elimina los espacios en blanco al principio y al final de una cadena.\n",
        "8. Se imprime el nombre y la calificación de los estudiantes aprobados (calificación >= 7) y desaprobados (calificación < 7).\n",
        "* print() es una función incorporada en Python que muestra un valor en la consola.\n",
        "* f\"{...}\" se utiliza para formatear cadenas en Python, lo que permite insertar valores de variables directamente en una cadena."
      ]
    },
    {
      "cell_type": "markdown",
      "metadata": {},
      "source": [
        "Ver resolución de la actividad en el siguiente replit: https://replit.com/@milagrospozzofa/Calificaciones-aprobatorias-y-desaprobatorias"
      ]
    },
    {
      "cell_type": "code",
      "execution_count": null,
      "metadata": {},
      "outputs": [],
      "source": [
        "# Lista para almacenar los nombres y calificaciones de los estudiantes\n",
        "estudiantes = []\n",
        "\n",
        "# Bucle para ingresar los datos de los estudiantes\n",
        "while True:\n",
        "    nombre = input(\"Ingresa el nombre del estudiante (o 'x' para salir): \")\n",
        "    while calificacion != 0:\n",
        "    if nombre.lower() == 'x':\n",
        "        break\n",
        "\n",
        "    calificacion = float(input(f\"Ingresa la calificación de {nombre}: \"))\n",
        "    estudiantes.append((nombre, calificacion))\n",
        "\n",
        "# Imprimir estudiantes aprobados y desaprobados\n",
        "print(\"\\nResultados:\")\n",
        "for nombre, calificacion in estudiantes:\n",
        "    estado = \"Aprobado\" if calificacion >= 7 else \"Desaprobado\"\n",
        "    print(f\"{nombre}: {calificacion} ({estado})\")"
      ]
    },
    {
      "cell_type": "markdown",
      "metadata": {
        "id": "QCwpO0XhV_oA"
      },
      "source": [
        "## Desafío 2: Mejora del Cálculo del Promedio\n",
        "\n",
        "Toma el ejemplo del cálculo del promedio de calificaciones y mejóralo. En lugar de pedir las calificaciones una por una, modifica el código para pedir todas las calificaciones al mismo tiempo (el estudiante puede ingresar las calificaciones separadas por comas) y luego calcular el promedio."
      ]
    },
    {
      "cell_type": "markdown",
      "metadata": {
        "id": "DGHX8zGvWK5k"
      },
      "source": [
        "## Desafío 3: Simulación de una Carrera de Autos\n",
        "\n",
        "Vas a simular una carrera de autos. Cada auto tiene una velocidad aleatoria (puedes usar la biblioteca random de Python) y cada ciclo del bucle representa un segundo de la carrera. Al final de cada segundo, cada auto avanza una distancia igual a su velocidad. La carrera dura 10 segundos. Al final de la carrera, debes imprimir el auto ganador. Si hay un empate, debes imprimir todos los autos que empataron.\n",
        "\n",
        "*Nota:* Este desafío puede requerir que aprendas sobre conceptos adicionales, por ejemplo cómo generar números aleatorios."
      ]
    },
    {
      "cell_type": "markdown",
      "metadata": {
        "id": "RLrgqVsaVxSZ"
      },
      "source": [
        "# Problemas"
      ]
    },
    {
      "cell_type": "markdown",
      "metadata": {
        "id": "-aldGZ8yVyJ_"
      },
      "source": [
        "## Problema: Cálculo de Gastos de un Viaje\n",
        "\n",
        "Supongamos que estás planeando un viaje y quieres calcular el total de gastos estimados. Tienes un arreglo de los diferentes conceptos de gastos (por ejemplo, transporte, alojamiento, alimentación, actividades, etc.) y quieres solicitar al usuario que ingrese el costo estimado para cada concepto. Al final, quieres mostrar el total de gastos estimados para el viaje.\n",
        "\n",
        "Planteamiento del problema:\n",
        "* Crea un arreglo de conceptos de gastos.\n",
        "* Utiliza un bucle for para iterar sobre el arreglo y solicitar al usuario que ingrese el costo estimado para cada concepto.\n",
        "* Utiliza una variable para realizar el seguimiento del total de gastos estimados, inicializada en 0.\n",
        "* Dentro del bucle, agrega el costo ingresado a la variable del total de gastos estimados.\n",
        "* Al final del bucle, muestra el total de gastos estimados.\n",
        "\n",
        "Aquí tienes un ejemplo de cómo podrías resolver este desafío utilizando arreglos:"
      ]
    },
    {
      "cell_type": "code",
      "execution_count": null,
      "metadata": {
        "id": "A9duJ5uFYY81"
      },
      "outputs": [],
      "source": [
        "import numpy as np\n",
        "\n",
        "conceptos_gastos = np.array(['Transporte', 'Alojamiento', 'Alimentación', 'Actividades', 'Otros'])\n",
        "\n",
        "total_gastos = 0\n",
        "\n",
        "for concepto in conceptos_gastos:\n",
        "    costo = float(input(f\"Ingrese el costo estimado para {concepto}: \"))\n",
        "    total_gastos += costo\n",
        "\n",
        "print(f\"El total de gastos estimados para el viaje es: {total_gastos}\")"
      ]
    },
    {
      "cell_type": "markdown",
      "metadata": {
        "id": "jI7zImR4YjP2"
      },
      "source": [
        "En este código, utilizamos un bucle for para iterar sobre el arreglo de conceptos de gastos. En cada iteración, solicitamos al usuario que ingrese el costo estimado para ese concepto y lo sumamos al total de gastos estimados. Al final, mostramos el resultado.\n",
        "\n",
        "¡Ahora puedes calcular fácilmente el total de gastos estimados para tu próximo viaje utilizando arreglos! ¡Es asombroso cómo Python nos permite resolver problemas de manera eficiente y sencilla! No te preocupes, en el próximo cuaderno exploraremos más a fondo los conceptos y funcionalidades de los arreglos en Python."
      ]
    },
    {
      "cell_type": "markdown",
      "metadata": {
        "id": "_OndWBmaYovM"
      },
      "source": [
        "## Problema: Análisis de Calificaciones utilizando Pandas y Bucles\n",
        "Supongamos que tienes un archivo CSV llamado \"calificaciones.csv\" que contiene las calificaciones de varios estudiantes. Tu objetivo es realizar un análisis de las calificaciones utilizando la biblioteca Pandas y bucles for.\n",
        "\n",
        "\n",
        "*Planteamiento del problema:*\n",
        "Importa la biblioteca Pandas.\n",
        "Carga el archivo CSV \"calificaciones.csv\" en un DataFrame de Pandas.\n",
        "Utiliza un bucle for para calcular el promedio de cada estudiante y mostrarlo en la consola.\n",
        "\n",
        "Aquí tienes un ejemplo de cómo podrías resolver este desafío utilizando Pandas y bucles for:"
      ]
    },
    {
      "cell_type": "code",
      "execution_count": null,
      "metadata": {
        "id": "ycHLwAYcbSob"
      },
      "outputs": [],
      "source": [
        "import pandas as pd\n",
        "\n",
        "# Carga el archivo CSV en un DataFrame\n",
        "df = pd.read_csv(\"calificaciones.csv\")\n",
        "\n",
        "# Inicializa variables para calcular el promedio general\n",
        "total_calificaciones = 0\n",
        "numero_calificaciones = 0\n",
        "\n",
        "# Utiliza un bucle for para sumar todas las calificaciones\n",
        "for index, row in df.iterrows():\n",
        "    nombre = row['Nombre']\n",
        "    calificacion = int(row['Calificacion'])\n",
        "    total_calificaciones += calificacion\n",
        "    numero_calificaciones += 1\n",
        "    print(f\"La calificación de {nombre} es: {calificacion}\")\n",
        "\n",
        "# Calcula el promedio general\n",
        "promedio_general = total_calificaciones / numero_calificaciones\n",
        "print(f\"El promedio general de las calificaciones es: {promedio_general:.2f}\")\n"
      ]
    },
    {
      "cell_type": "markdown",
      "metadata": {
        "id": "jOSCW8hyauFA"
      },
      "source": [
        "En este código, utilizamos Pandas para cargar el archivo CSV en un DataFrame. Luego, utilizamos un bucle for junto con iterrows() para iterar sobre cada fila del DataFrame. Para cada estudiante, extraemos el nombre y la calificación, para luego calcular el promedio.\n",
        "\n",
        "Finalmente, mostramos el promedio de cada estudiante en la consola."
      ]
    }
  ],
  "metadata": {
    "colab": {
      "include_colab_link": true,
      "provenance": [],
      "toc_visible": true
    },
    "kernelspec": {
      "display_name": "Python 3",
      "name": "python3"
    },
    "language_info": {
      "codemirror_mode": {
        "name": "ipython",
        "version": 3
      },
      "file_extension": ".py",
      "mimetype": "text/x-python",
      "name": "python",
      "nbconvert_exporter": "python",
      "pygments_lexer": "ipython3",
      "version": "3.12.2"
    }
  },
  "nbformat": 4,
  "nbformat_minor": 0
}
